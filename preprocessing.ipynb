{
 "cells": [
  {
   "cell_type": "code",
   "execution_count": 32,
   "metadata": {},
   "outputs": [
    {
     "name": "stdout",
     "output_type": "stream",
     "text": [
      "The autoreload extension is already loaded. To reload it, use:\n",
      "  %reload_ext autoreload\n"
     ]
    }
   ],
   "source": [
    "# import\n",
    "import pandas as pd\n",
    "\n",
    "# remove warnings\n",
    "import warnings\n",
    "warnings.filterwarnings(\"ignore\")\n",
    "\n",
    "\n",
    "# enable autoreload to automatically reload modified modules during development\n",
    "%load_ext autoreload\n",
    "%autoreload 2"
   ]
  },
  {
   "cell_type": "markdown",
   "metadata": {},
   "source": [
    "# Preprocessing of the Data\n",
    "\n",
    "Before beginning the analysis, it's essential to construct a robust dataset that serves as a reliable foundation for our exploration and insights."
   ]
  },
  {
   "cell_type": "markdown",
   "metadata": {},
   "source": [
    "## CMU Movie Summary Corpus\n",
    "\n",
    "The CMU Movie Summary Corpus serves as our primary dataset. It can be accessed through the following website: [CMU Movie Summary Corpus](https://www.cs.cmu.edu/~ark/personas/). Please note that MovieSummaries isn't pushed on our repo due to size issues. \n"
   ]
  },
  {
   "cell_type": "code",
   "execution_count": 23,
   "metadata": {},
   "outputs": [
    {
     "data": {
      "text/html": [
       "<div>\n",
       "<style scoped>\n",
       "    .dataframe tbody tr th:only-of-type {\n",
       "        vertical-align: middle;\n",
       "    }\n",
       "\n",
       "    .dataframe tbody tr th {\n",
       "        vertical-align: top;\n",
       "    }\n",
       "\n",
       "    .dataframe thead th {\n",
       "        text-align: right;\n",
       "    }\n",
       "</style>\n",
       "<table border=\"1\" class=\"dataframe\">\n",
       "  <thead>\n",
       "    <tr style=\"text-align: right;\">\n",
       "      <th></th>\n",
       "      <th>Wikipedia_ID</th>\n",
       "      <th>Freebase_ID</th>\n",
       "      <th>Movie_Name</th>\n",
       "      <th>Release_Date</th>\n",
       "      <th>Box_Office_Revenue</th>\n",
       "      <th>Runtime</th>\n",
       "      <th>Languages</th>\n",
       "      <th>Countries</th>\n",
       "      <th>Genres</th>\n",
       "    </tr>\n",
       "  </thead>\n",
       "  <tbody>\n",
       "    <tr>\n",
       "      <th>0</th>\n",
       "      <td>975900</td>\n",
       "      <td>/m/03vyhn</td>\n",
       "      <td>Ghosts of Mars</td>\n",
       "      <td>2001-08-24</td>\n",
       "      <td>14010832.0</td>\n",
       "      <td>98.0</td>\n",
       "      <td>{\"/m/02h40lc\": \"English Language\"}</td>\n",
       "      <td>{\"/m/09c7w0\": \"United States of America\"}</td>\n",
       "      <td>{\"/m/01jfsb\": \"Thriller\", \"/m/06n90\": \"Science...</td>\n",
       "    </tr>\n",
       "    <tr>\n",
       "      <th>1</th>\n",
       "      <td>3196793</td>\n",
       "      <td>/m/08yl5d</td>\n",
       "      <td>Getting Away with Murder: The JonBenét Ramsey ...</td>\n",
       "      <td>2000-02-16</td>\n",
       "      <td>NaN</td>\n",
       "      <td>95.0</td>\n",
       "      <td>{\"/m/02h40lc\": \"English Language\"}</td>\n",
       "      <td>{\"/m/09c7w0\": \"United States of America\"}</td>\n",
       "      <td>{\"/m/02n4kr\": \"Mystery\", \"/m/03bxz7\": \"Biograp...</td>\n",
       "    </tr>\n",
       "  </tbody>\n",
       "</table>\n",
       "</div>"
      ],
      "text/plain": [
       "   Wikipedia_ID Freebase_ID  \\\n",
       "0        975900   /m/03vyhn   \n",
       "1       3196793   /m/08yl5d   \n",
       "\n",
       "                                          Movie_Name Release_Date  \\\n",
       "0                                     Ghosts of Mars   2001-08-24   \n",
       "1  Getting Away with Murder: The JonBenét Ramsey ...   2000-02-16   \n",
       "\n",
       "   Box_Office_Revenue  Runtime                           Languages  \\\n",
       "0          14010832.0     98.0  {\"/m/02h40lc\": \"English Language\"}   \n",
       "1                 NaN     95.0  {\"/m/02h40lc\": \"English Language\"}   \n",
       "\n",
       "                                   Countries  \\\n",
       "0  {\"/m/09c7w0\": \"United States of America\"}   \n",
       "1  {\"/m/09c7w0\": \"United States of America\"}   \n",
       "\n",
       "                                              Genres  \n",
       "0  {\"/m/01jfsb\": \"Thriller\", \"/m/06n90\": \"Science...  \n",
       "1  {\"/m/02n4kr\": \"Mystery\", \"/m/03bxz7\": \"Biograp...  "
      ]
     },
     "metadata": {},
     "output_type": "display_data"
    },
    {
     "data": {
      "text/plain": [
       "(81741, 9)"
      ]
     },
     "metadata": {},
     "output_type": "display_data"
    }
   ],
   "source": [
    "# define file paths for the datasets\n",
    "plot_summaries_path = r'..\\MovieSummaries\\plot_summaries.txt'\n",
    "movie_metadata_path = r'..\\MovieSummaries\\movie.metadata.tsv'\n",
    "character_metadata_path = r'..\\MovieSummaries\\character.metadata.tsv'\n",
    "\n",
    "# load plot summaries with specified column names\n",
    "plot_summaries = pd.read_csv(\n",
    "    plot_summaries_path, \n",
    "    sep='\\t', \n",
    "    header=None, \n",
    "    names=['Wikipedia_ID', 'Plot_Summary']\n",
    ")\n",
    "\n",
    "# load movie metadata with specified column names\n",
    "movie_metadata = pd.read_csv(\n",
    "    movie_metadata_path, \n",
    "    sep='\\t', \n",
    "    header=None, \n",
    "    names=[\n",
    "        'Wikipedia_ID', 'Freebase_ID', 'Movie_Name', 'Release_Date', \n",
    "        'Box_Office_Revenue', 'Runtime', 'Languages', 'Countries', 'Genres'\n",
    "    ]\n",
    ")\n",
    "\n",
    "# load character metadata with specified column names\n",
    "character_metadata = pd.read_csv(\n",
    "    character_metadata_path, \n",
    "    sep='\\t', \n",
    "    header=None, \n",
    "    names=[\n",
    "        'Wikipedia_ID', 'Freebase_ID', 'Release_Date', 'Character_Name', \n",
    "        'Actor_Birth_Date', 'Actor_Gender', 'Actor_Height', 'Actor_Ethnicity', \n",
    "        'Actor_Name', 'Actor_Age', 'Character_Actor_Freebase_ID', \n",
    "        'Character_Freebase_ID', 'Actor_Freebase_ID'\n",
    "    ]\n",
    ")\n",
    "\n",
    "# display a preview of the movie metadata and its dimensions\n",
    "display(movie_metadata.head(2), movie_metadata.shape)\n"
   ]
  },
  {
   "cell_type": "markdown",
   "metadata": {},
   "source": [
    "### Treatment colomns Languages, Countries and Genres\n",
    "The code loads a CSV file with movie metadata into a DataFrame, defining names for each column. The \"Freebase_ID\" column is removed, and the \"Languages,\" \"Countries,\" and \"Genres\" columns are converted into lists of values by extracting data from dictionary-like strings. Empty cells are replaced with \"Unknown.\" Finally, the first few rows of the DataFrame are displayed for verification."
   ]
  },
  {
   "cell_type": "code",
   "execution_count": 24,
   "metadata": {},
   "outputs": [],
   "source": [
    "# load movie metadata with specified columns\n",
    "movie_metadata = pd.read_csv(\n",
    "    movie_metadata_path, \n",
    "    sep='\\t', \n",
    "    header=None, \n",
    "    names=[\n",
    "        'Wikipedia_ID', 'Freebase_ID', 'Movie_Name', 'Release_Date', \n",
    "        'Box_Office_Revenue', 'Runtime', 'Languages', 'Countries', 'Genres'\n",
    "    ]\n",
    ")\n",
    "\n",
    "# drop the 'Freebase_ID' column as it's not needed for further analysis\n",
    "movie_metadata = movie_metadata.drop(columns=['Freebase_ID'], inplace=False)\n",
    "\n",
    "# explode the 'Languages' column into a list of values, defaulting to ['Unknown'] if empty\n",
    "movie_metadata['Languages'] = movie_metadata['Languages'].apply(\n",
    "    lambda x: list(eval(x).values()) if x != '{}' else ['Unknown']\n",
    ")\n",
    "\n",
    "# explode the 'Countries' column into a list of values, defaulting to ['Unknown'] if empty\n",
    "movie_metadata['Countries'] = movie_metadata['Countries'].apply(\n",
    "    lambda x: list(eval(x).values()) if x != '{}' else ['Unknown']\n",
    ")\n",
    "\n",
    "# explode the 'Genres' column into a list of values, defaulting to ['Unknown'] if empty\n",
    "movie_metadata['Genres'] = movie_metadata['Genres'].apply(\n",
    "    lambda x: list(eval(x).values()) if x != '{}' else ['Unknown']\n",
    ")\n"
   ]
  },
  {
   "cell_type": "markdown",
   "metadata": {},
   "source": [
    "### Mapping Countries to Continents and Filtering for America and Europe"
   ]
  },
  {
   "cell_type": "markdown",
   "metadata": {},
   "source": [
    "This code defines a dictionary to classify countries by continent, then uses a function to map each country to its respective continent. If a country does not match any defined continent, it is labeled as \"Other.\" This mapping function is applied to the \"Countries\" column in the `movie_metadata` DataFrame to create a new column, \"Continents.\" Finally, the DataFrame is filtered to retain only rows where the continent includes \"America\" or \"Europe\"."
   ]
  },
  {
   "cell_type": "code",
   "execution_count": 25,
   "metadata": {},
   "outputs": [],
   "source": [
    "from src.utils.data_utils import map_country_list_to_continent\n",
    "\n",
    "# apply the mapping function to the 'Countries' column to determine the corresponding continents\n",
    "movie_metadata['Continents'] = movie_metadata['Countries'].apply(\n",
    "    lambda x: map_country_list_to_continent(x)\n",
    ")\n",
    "\n",
    "# filter rows where the 'Continents' column contains either 'America' or 'Europe'\n",
    "movie_metadata = movie_metadata[movie_metadata['Continents'].apply(\n",
    "    lambda x: 'America' in x or 'Europe' in x\n",
    ")]"
   ]
  },
  {
   "cell_type": "code",
   "execution_count": 26,
   "metadata": {},
   "outputs": [
    {
     "data": {
      "text/plain": [
       "Continents\n",
       "[America]             34779\n",
       "[Europe]              18488\n",
       "[Both]                 3000\n",
       "[America, Asia]         456\n",
       "[Europe, Asia]          366\n",
       "[Europe, Africa]        195\n",
       "[America, Oceania]      182\n",
       "[Both, Asia]            130\n",
       "[Europe, Oceania]        93\n",
       "[America, Africa]        63\n",
       "[Both, Oceania]          50\n",
       "[Both, Africa]           35\n",
       "Name: count, dtype: int64"
      ]
     },
     "metadata": {},
     "output_type": "display_data"
    }
   ],
   "source": [
    "from src.utils.data_utils import treat_continent\n",
    "\n",
    "# apply the 'treat_continent' function to standardize the 'Continents' column\n",
    "movie_metadata[\"Continents\"] = movie_metadata[\"Continents\"].apply(lambda x: treat_continent(x))\n",
    "\n",
    "# filter out rows where the 'Continents' list contains 3 or more elements\n",
    "movie_metadata = movie_metadata[movie_metadata[\"Continents\"].apply(lambda x: len(x) < 3)]\n",
    "\n",
    "# display the updated value counts for the 'Continents' column to inspect the distribution\n",
    "display(movie_metadata[\"Continents\"].value_counts())"
   ]
  },
  {
   "cell_type": "markdown",
   "metadata": {},
   "source": [
    "### Filtering for Comedy Genre and Counting Occurrences"
   ]
  },
  {
   "cell_type": "markdown",
   "metadata": {},
   "source": [
    "This code filters the movies to keep only those with the genre \"Comedy.\" It sets other genres to `None`, then drops rows without \"Comedy\" in the \"Genres\" column. "
   ]
  },
  {
   "cell_type": "code",
   "execution_count": 27,
   "metadata": {},
   "outputs": [
    {
     "data": {
      "text/plain": [
       "Genres\n",
       "[Comedy]                                                                           1700\n",
       "[Short Film, Silent film, Indie, Black-and-white, Comedy]                           547\n",
       "[Drama, Comedy]                                                                     358\n",
       "[Short Film, Comedy, Black-and-white]                                               252\n",
       "[Comedy, Black-and-white]                                                           250\n",
       "                                                                                   ... \n",
       "[Silent film, Melodrama, Indie, Comedy-drama, Black-and-white, Comedy]                1\n",
       "[LGBT, Gay Interest, Indie, Gay, Satire, Comedy, Gay Themed, Romance Film]            1\n",
       "[LGBT, Horror, Comedy-drama, Psychological thriller, Comedy, Black comedy]            1\n",
       "[Period piece, Drama, Comedy, Film adaptation, Black comedy, Biographical film]       1\n",
       "[Crime Fiction, Thriller, Comedy, Supernatural]                                       1\n",
       "Name: count, Length: 6092, dtype: int64"
      ]
     },
     "execution_count": 27,
     "metadata": {},
     "output_type": "execute_result"
    }
   ],
   "source": [
    "# filter the 'Genres' column, keeping only rows where 'Comedy' is in the genre list\n",
    "movie_metadata[\"Genres\"] = movie_metadata[\"Genres\"].apply(lambda x: x if 'Comedy' in x else None)\n",
    "\n",
    "# remove rows where 'Genres' is NaN (i.e., not containing 'Comedy')\n",
    "movie_metadata = movie_metadata.dropna(subset=[\"Genres\"])\n",
    "\n",
    "# display the value counts for the 'Genres' column to inspect the distribution\n",
    "movie_metadata[\"Genres\"].value_counts()"
   ]
  },
  {
   "cell_type": "markdown",
   "metadata": {},
   "source": [
    "### Filling Missing Box Office Values and Verifying Changes"
   ]
  },
  {
   "cell_type": "markdown",
   "metadata": {},
   "source": [
    "\n",
    "This code fills any `NaN` values in the \"Box_Office_Revenue\" column with 0. Then, it displays the first few rows and the shape of the DataFrame to verify the changes."
   ]
  },
  {
   "cell_type": "code",
   "execution_count": 28,
   "metadata": {},
   "outputs": [],
   "source": [
    "# fill the NaN values in the Box_Office_Revenue column with 0\n",
    "movie_metadata['Box_Office_Revenue'] = movie_metadata['Box_Office_Revenue'].fillna(0)"
   ]
  },
  {
   "cell_type": "markdown",
   "metadata": {},
   "source": [
    "## Open Movie Database (OMBD)"
   ]
  },
  {
   "cell_type": "code",
   "execution_count": 29,
   "metadata": {},
   "outputs": [
    {
     "data": {
      "text/html": [
       "<div>\n",
       "<style scoped>\n",
       "    .dataframe tbody tr th:only-of-type {\n",
       "        vertical-align: middle;\n",
       "    }\n",
       "\n",
       "    .dataframe tbody tr th {\n",
       "        vertical-align: top;\n",
       "    }\n",
       "\n",
       "    .dataframe thead th {\n",
       "        text-align: right;\n",
       "    }\n",
       "</style>\n",
       "<table border=\"1\" class=\"dataframe\">\n",
       "  <thead>\n",
       "    <tr style=\"text-align: right;\">\n",
       "      <th></th>\n",
       "      <th>Title</th>\n",
       "      <th>Year</th>\n",
       "      <th>Rated</th>\n",
       "      <th>Released</th>\n",
       "      <th>Runtime</th>\n",
       "      <th>Genre</th>\n",
       "      <th>Director</th>\n",
       "      <th>Writer</th>\n",
       "      <th>Actors</th>\n",
       "      <th>Plot</th>\n",
       "      <th>...</th>\n",
       "      <th>imdbRating</th>\n",
       "      <th>imdbVotes</th>\n",
       "      <th>imdbID</th>\n",
       "      <th>Type</th>\n",
       "      <th>DVD</th>\n",
       "      <th>BoxOffice</th>\n",
       "      <th>Production</th>\n",
       "      <th>Website</th>\n",
       "      <th>Response</th>\n",
       "      <th>totalSeasons</th>\n",
       "    </tr>\n",
       "  </thead>\n",
       "  <tbody>\n",
       "    <tr>\n",
       "      <th>0</th>\n",
       "      <td>Ghosts of Mars</td>\n",
       "      <td>2001</td>\n",
       "      <td>R</td>\n",
       "      <td>24 Aug 2001</td>\n",
       "      <td>98 min</td>\n",
       "      <td>Action, Horror, Sci-Fi</td>\n",
       "      <td>John Carpenter</td>\n",
       "      <td>Larry Sulkis, John Carpenter</td>\n",
       "      <td>Natasha Henstridge, Ice Cube, Pam Grier</td>\n",
       "      <td>In 2176, a Martian police unit is sent to pick...</td>\n",
       "      <td>...</td>\n",
       "      <td>4.9</td>\n",
       "      <td>58,722</td>\n",
       "      <td>tt0228333</td>\n",
       "      <td>movie</td>\n",
       "      <td>NaN</td>\n",
       "      <td>$8,709,640</td>\n",
       "      <td>NaN</td>\n",
       "      <td>NaN</td>\n",
       "      <td>True</td>\n",
       "      <td>NaN</td>\n",
       "    </tr>\n",
       "    <tr>\n",
       "      <th>1</th>\n",
       "      <td>Getting Away with Murder: The JonBenet Ramsey ...</td>\n",
       "      <td>2000</td>\n",
       "      <td>NaN</td>\n",
       "      <td>16 Feb 2000</td>\n",
       "      <td>95 min</td>\n",
       "      <td>Drama</td>\n",
       "      <td>Edward Lucas</td>\n",
       "      <td>Michael A. Graham, Ted Haimes</td>\n",
       "      <td>Alice Barrett, Rod Britt, Hildy Brooks</td>\n",
       "      <td>Six-year-old JonBenét Ramsey, whose body was f...</td>\n",
       "      <td>...</td>\n",
       "      <td>6.0</td>\n",
       "      <td>69</td>\n",
       "      <td>tt0245916</td>\n",
       "      <td>movie</td>\n",
       "      <td>NaN</td>\n",
       "      <td>NaN</td>\n",
       "      <td>NaN</td>\n",
       "      <td>NaN</td>\n",
       "      <td>True</td>\n",
       "      <td>NaN</td>\n",
       "    </tr>\n",
       "  </tbody>\n",
       "</table>\n",
       "<p>2 rows × 26 columns</p>\n",
       "</div>"
      ],
      "text/plain": [
       "                                               Title  Year Rated     Released  \\\n",
       "0                                     Ghosts of Mars  2001     R  24 Aug 2001   \n",
       "1  Getting Away with Murder: The JonBenet Ramsey ...  2000   NaN  16 Feb 2000   \n",
       "\n",
       "  Runtime                   Genre        Director  \\\n",
       "0  98 min  Action, Horror, Sci-Fi  John Carpenter   \n",
       "1  95 min                   Drama    Edward Lucas   \n",
       "\n",
       "                          Writer                                   Actors  \\\n",
       "0   Larry Sulkis, John Carpenter  Natasha Henstridge, Ice Cube, Pam Grier   \n",
       "1  Michael A. Graham, Ted Haimes   Alice Barrett, Rod Britt, Hildy Brooks   \n",
       "\n",
       "                                                Plot  ... imdbRating  \\\n",
       "0  In 2176, a Martian police unit is sent to pick...  ...        4.9   \n",
       "1  Six-year-old JonBenét Ramsey, whose body was f...  ...        6.0   \n",
       "\n",
       "  imdbVotes     imdbID   Type  DVD   BoxOffice  Production Website Response  \\\n",
       "0    58,722  tt0228333  movie  NaN  $8,709,640         NaN     NaN     True   \n",
       "1        69  tt0245916  movie  NaN         NaN         NaN     NaN     True   \n",
       "\n",
       "  totalSeasons  \n",
       "0          NaN  \n",
       "1          NaN  \n",
       "\n",
       "[2 rows x 26 columns]"
      ]
     },
     "metadata": {},
     "output_type": "display_data"
    },
    {
     "data": {
      "text/plain": [
       "(71544, 26)"
      ]
     },
     "metadata": {},
     "output_type": "display_data"
    }
   ],
   "source": [
    "# load the OMDB API data from the specified CSV file\n",
    "# note: this dataset is not included in the repository due to size constraints\n",
    "omdb_data_path = r'..\\MovieSummaries\\movies_omdbapi.csv'\n",
    "omdb_data = pd.read_csv(omdb_data_path)\n",
    "\n",
    "# display the first few rows of the dataframe and its shape to inspect the data\n",
    "display(omdb_data.head(2), omdb_data.shape)"
   ]
  },
  {
   "cell_type": "code",
   "execution_count": 30,
   "metadata": {},
   "outputs": [
    {
     "name": "stdout",
     "output_type": "stream",
     "text": [
      "Index(['Title', 'Year', 'Rated', 'Released', 'Runtime', 'Genre', 'Director',\n",
      "       'Writer', 'Actors', 'Plot', 'Language', 'Country', 'Awards', 'Poster',\n",
      "       'Ratings', 'Metascore', 'imdbRating', 'imdbVotes', 'imdbID', 'Type',\n",
      "       'DVD', 'BoxOffice', 'Production', 'Website', 'Response',\n",
      "       'totalSeasons'],\n",
      "      dtype='object')\n"
     ]
    }
   ],
   "source": [
    "# let's inspect the columns of the OMDB dataset\n",
    "print(omdb_data.columns)"
   ]
  },
  {
   "cell_type": "markdown",
   "metadata": {},
   "source": [
    "## Merging DataFrames and Dropping Unnecessary Columns"
   ]
  },
  {
   "cell_type": "markdown",
   "metadata": {},
   "source": [
    "This code merges two DataFrames, movie_metadata and omdb_data, using an inner join on the \"Movie_Name\" column from movie_metadata and the \"Title\" column from omdb_data.Afterward, it removes unneeded columns (\"Released,\" \"Genre,\" \"Title,\" \"Language,\" \"Country,\" and \"Type\") to keep only relevant information."
   ]
  },
  {
   "cell_type": "code",
   "execution_count": 31,
   "metadata": {},
   "outputs": [],
   "source": [
    "# merge the two DataFrames on the 'Movie_Name' column from 'movie_metadata' and 'Title' column from 'omdb_data'\n",
    "# we use an inner join to keep only matching rows between the two datasets\n",
    "merged_movie_metadata = pd.merge(\n",
    "    movie_metadata, \n",
    "    omdb_data, \n",
    "    left_on='Movie_Name', \n",
    "    right_on='Title', \n",
    "    how='inner'\n",
    ")\n",
    "\n",
    "# drop unnecessary columns from the merged DataFrame\n",
    "merged_movie_metadata = merged_movie_metadata.drop(columns=[\n",
    "    \"Released\", \"Genre\", \"Title\", \"Language\", \"Country\", \"Type\"\n",
    "])"
   ]
  },
  {
   "cell_type": "markdown",
   "metadata": {},
   "source": [
    "### Cleaning and Merging Box Office Revenue Data"
   ]
  },
  {
   "cell_type": "markdown",
   "metadata": {},
   "source": [
    "This code combines revenue data from \"Box_Office_Revenue\" and \"BoxOffice\" to ensure complete, consistent values. It removes the dollar sign from \"BoxOffice,\" converts it to a float, replaces 0s in \"Box_Office_Revenue\" with `NaN`, and fills missing values from \"BoxOffice.\" The \"BoxOffice\" column is then dropped, leaving a unified \"Box_Office_Revenue\" column in float format. This process standardizes revenue data for further analysis."
   ]
  },
  {
   "cell_type": "code",
   "execution_count": 33,
   "metadata": {},
   "outputs": [
    {
     "name": "stdout",
     "output_type": "stream",
     "text": [
      "Initial 'Box_Office_Revenue' and 'BoxOffice' columns:\n",
      "   Box_Office_Revenue     BoxOffice\n",
      "0                 0.0           NaN\n",
      "1           3600000.0           NaN\n",
      "2                 0.0           NaN\n",
      "3         102272727.0  $102,272,727\n",
      "4                 0.0       $69,171\n",
      "\n",
      "Updated 'Box_Office_Revenue' column:\n",
      "   Box_Office_Revenue\n",
      "0                 NaN\n",
      "1           3600000.0\n",
      "2                 NaN\n",
      "3         102272727.0\n",
      "4             69171.0\n",
      "\n",
      "------------------------------------\n",
      "Number of missing values in 'Box_Office_Revenue': 8429\n",
      "\n",
      "------------------------------------\n",
      "All values in 'Box_Office_Revenue' are floats: True\n"
     ]
    }
   ],
   "source": [
    "# display the initial state of 'Box_Office_Revenue' and 'BoxOffice' columns\n",
    "print(\"Initial 'Box_Office_Revenue' and 'BoxOffice' columns:\")\n",
    "print(merged_movie_metadata[[\"Box_Office_Revenue\", \"BoxOffice\"]].head())\n",
    "\n",
    "# clean and convert 'BoxOffice' column: remove dollar signs and commas, then convert to float\n",
    "merged_movie_metadata['BoxOffice'] = merged_movie_metadata['BoxOffice'].replace(r'[\\$,]', '', regex=True).astype(float)\n",
    "\n",
    "# replace 0 values in 'Box_Office_Revenue' with NaN\n",
    "merged_movie_metadata['Box_Office_Revenue'] = merged_movie_metadata['Box_Office_Revenue'].replace(0, pd.NA)\n",
    "\n",
    "# merge 'BoxOffice' into 'Box_Office_Revenue': fill missing values in 'Box_Office_Revenue' with 'BoxOffice' values\n",
    "merged_movie_metadata['Box_Office_Revenue'] = (\n",
    "    merged_movie_metadata['Box_Office_Revenue']\n",
    "    .fillna(merged_movie_metadata['BoxOffice'])\n",
    "    .infer_objects()\n",
    ")\n",
    "\n",
    "# drop the redundant 'BoxOffice' column\n",
    "merged_movie_metadata = merged_movie_metadata.drop(columns=['BoxOffice'])\n",
    "\n",
    "# display the updated 'Box_Office_Revenue' column\n",
    "print(\"\\nUpdated 'Box_Office_Revenue' column:\")\n",
    "print(merged_movie_metadata[['Box_Office_Revenue']].head())\n",
    "\n",
    "# display the number of missing values in 'Box_Office_Revenue'\n",
    "print(f\"\\n------------------------------------\")\n",
    "missing_values = merged_movie_metadata['Box_Office_Revenue'].isna().sum()\n",
    "print(f\"Number of missing values in 'Box_Office_Revenue': {missing_values}\")\n",
    "\n",
    "# verify if all values in 'Box_Office_Revenue' are floats\n",
    "print(f\"\\n------------------------------------\")\n",
    "is_float = merged_movie_metadata['Box_Office_Revenue'].apply(lambda x: isinstance(x, float)).all()\n",
    "print(f\"All values in 'Box_Office_Revenue' are floats: {is_float}\")\n"
   ]
  },
  {
   "cell_type": "markdown",
   "metadata": {},
   "source": [
    "### Cleaning and Merging Runtime Data"
   ]
  },
  {
   "cell_type": "markdown",
   "metadata": {},
   "source": [
    "This code standardizes the runtime data by removing unwanted characters and combining columns. First, digits are removed from \"Runtime_y\" to identify common patterns, and rows with invalid characters ('h' or 'S') are filtered out. The column is further cleaned by stripping \"min\" and converting values to float. Any missing values in \"Runtime_x\" are then filled using \"Runtime_y,\" after which \"Runtime_y\" is dropped. Finally, \"Runtime_x\" is renamed to \"Runtime\" for clarity, ensuring all runtime data is consolidated and ready for analysis."
   ]
  },
  {
   "cell_type": "code",
   "execution_count": 34,
   "metadata": {},
   "outputs": [
    {
     "name": "stdout",
     "output_type": "stream",
     "text": [
      "Counts of runtime values after removing digits:\n",
      "Runtime_y\n",
      " min       13330\n",
      "S min         31\n",
      " h  min        5\n",
      " h             1\n",
      "Name: count, dtype: int64\n",
      "\n",
      "First few rows of 'Runtime_y' after filtering:\n",
      "  Runtime_y\n",
      "0   105 min\n",
      "1   106 min\n",
      "2    70 min\n",
      "3   139 min\n",
      "4    83 min\n",
      "\n",
      "Final counts of runtime values after filtering:\n",
      "Runtime_y\n",
      "min    13330\n",
      "Name: count, dtype: int64\n"
     ]
    }
   ],
   "source": [
    "# remove digits from the 'Runtime_y' column and count occurrences of the cleaned values\n",
    "runtime_counts = (\n",
    "    merged_movie_metadata['Runtime_y']\n",
    "    .str.replace(r'\\d+', '', regex=True)  # remove digits\n",
    "    .value_counts()  # count occurrences of each unique value\n",
    ")\n",
    "\n",
    "# display the count of cleaned runtime values\n",
    "print(\"Counts of runtime values after removing digits:\")\n",
    "print(runtime_counts)\n",
    "\n",
    "# filter out rows where 'Runtime_y' contains 'h' or 'S', indicating irrelevant values\n",
    "merged_movie_metadata = merged_movie_metadata[\n",
    "    ~merged_movie_metadata['Runtime_y'].str.contains(r'h|S', na=False)  # exclude rows with 'h' or 'S'\n",
    "]\n",
    "\n",
    "# display the first few rows of the updated 'Runtime_y' column after filtering\n",
    "print(\"\\nFirst few rows of 'Runtime_y' after filtering:\")\n",
    "print(merged_movie_metadata[['Runtime_y']].head())\n",
    "\n",
    "# remove digits from the 'Runtime_y' column again and count occurrences\n",
    "runtime_counts = (\n",
    "    merged_movie_metadata['Runtime_y']\n",
    "    .str.replace(r'\\d+', '', regex=True)  # remove digits\n",
    "    .value_counts()  # count occurrences of each unique value\n",
    ")\n",
    "\n",
    "# display the final count of cleaned runtime values\n",
    "print(\"\\nFinal counts of runtime values after filtering:\")\n",
    "print(runtime_counts)"
   ]
  },
  {
   "cell_type": "code",
   "execution_count": 35,
   "metadata": {},
   "outputs": [],
   "source": [
    "# merge runtime columns: clean 'Runtime_y' and update 'Runtime_x' with 'Runtime_y' values\n",
    "\n",
    "# remove 'min' from 'Runtime_y' and convert to float\n",
    "merged_movie_metadata['Runtime_y'] = merged_movie_metadata['Runtime_y'].str.replace(' min', '').astype(float)\n",
    "\n",
    "# replace NaN values in 'Runtime_x' with values from 'Runtime_y'\n",
    "merged_movie_metadata['Runtime_x'].fillna(merged_movie_metadata['Runtime_y'], inplace=True)\n",
    "\n",
    "# drop the 'Runtime_y' column as it is now merged\n",
    "merged_movie_metadata = merged_movie_metadata.drop(columns=['Runtime_y'])\n",
    "\n",
    "# rename 'Runtime_x' to 'Runtime' for clarity\n",
    "merged_movie_metadata.rename(columns={'Runtime_x': 'Runtime'}, inplace=True)"
   ]
  },
  {
   "cell_type": "markdown",
   "metadata": {},
   "source": [
    "### Extracting and Organizing Ratings Data"
   ]
  },
  {
   "cell_type": "markdown",
   "metadata": {},
   "source": [
    "\n",
    "This code extracts individual ratings from a JSON-like \"Ratings\" column. It defines a function to parse `ratings_str`, converting it to a dictionary of ratings by source (e.g., IMDb, Rotten Tomatoes). This function is applied to create a \"Ratings_Dict\" column, from which specific ratings are extracted into separate columns: \"Internet_Movie_Database_Rating,\" \"Rotten_Tomatoes_Rating,\" and \"Metacritic_Rating.\" "
   ]
  },
  {
   "cell_type": "code",
   "execution_count": 36,
   "metadata": {},
   "outputs": [],
   "source": [
    "from src.utils.data_utils import extract_awards\n",
    "\n",
    "# apply the extract_awards function to the 'Awards' column and create new columns for each award category\n",
    "merged_movie_metadata[['Oscar', 'Nomination_Awards', 'Win_Awards']] = merged_movie_metadata['Awards'].apply(\n",
    "    lambda x: pd.Series(extract_awards(x))\n",
    ")"
   ]
  },
  {
   "cell_type": "markdown",
   "metadata": {},
   "source": [
    "### Extracting, Normalizing, and Verifying Ratings Data"
   ]
  },
  {
   "cell_type": "markdown",
   "metadata": {},
   "source": [
    "\n",
    "\n",
    "This code extracts and standardizes movie ratings to a 10-point scale. Initially, it parses the \"Ratings\" column to create a dictionary of ratings by source (IMDb, Rotten Tomatoes, Metacritic). Each rating source is extracted into separate columns, and a function then normalizes the values to a scale of 10, converting percentages and different scales as needed. The transformed columns are verified to ensure all values are floats and below 10, confirming the consistency of the rating data for analysis."
   ]
  },
  {
   "cell_type": "code",
   "execution_count": 38,
   "metadata": {},
   "outputs": [
    {
     "data": {
      "text/html": [
       "<div>\n",
       "<style scoped>\n",
       "    .dataframe tbody tr th:only-of-type {\n",
       "        vertical-align: middle;\n",
       "    }\n",
       "\n",
       "    .dataframe tbody tr th {\n",
       "        vertical-align: top;\n",
       "    }\n",
       "\n",
       "    .dataframe thead th {\n",
       "        text-align: right;\n",
       "    }\n",
       "</style>\n",
       "<table border=\"1\" class=\"dataframe\">\n",
       "  <thead>\n",
       "    <tr style=\"text-align: right;\">\n",
       "      <th></th>\n",
       "      <th>Movie_Name</th>\n",
       "      <th>Internet_Movie_Database_Rating</th>\n",
       "      <th>Rotten_Tomatoes_Rating</th>\n",
       "      <th>Metacritic_Rating</th>\n",
       "    </tr>\n",
       "  </thead>\n",
       "  <tbody>\n",
       "    <tr>\n",
       "      <th>0</th>\n",
       "      <td>The Gangsters</td>\n",
       "      <td>5.9/10</td>\n",
       "      <td>None</td>\n",
       "      <td>None</td>\n",
       "    </tr>\n",
       "    <tr>\n",
       "      <th>1</th>\n",
       "      <td>Alexander's Ragtime Band</td>\n",
       "      <td>6.8/10</td>\n",
       "      <td>83%</td>\n",
       "      <td>None</td>\n",
       "    </tr>\n",
       "    <tr>\n",
       "      <th>2</th>\n",
       "      <td>Contigo y aquí</td>\n",
       "      <td>None</td>\n",
       "      <td>None</td>\n",
       "      <td>None</td>\n",
       "    </tr>\n",
       "    <tr>\n",
       "      <th>3</th>\n",
       "      <td>Mary Poppins</td>\n",
       "      <td>7.8/10</td>\n",
       "      <td>97%</td>\n",
       "      <td>88/100</td>\n",
       "    </tr>\n",
       "    <tr>\n",
       "      <th>4</th>\n",
       "      <td>White on Rice</td>\n",
       "      <td>6.1/10</td>\n",
       "      <td>45%</td>\n",
       "      <td>45/100</td>\n",
       "    </tr>\n",
       "  </tbody>\n",
       "</table>\n",
       "</div>"
      ],
      "text/plain": [
       "                 Movie_Name Internet_Movie_Database_Rating  \\\n",
       "0             The Gangsters                         5.9/10   \n",
       "1  Alexander's Ragtime Band                         6.8/10   \n",
       "2            Contigo y aquí                           None   \n",
       "3              Mary Poppins                         7.8/10   \n",
       "4             White on Rice                         6.1/10   \n",
       "\n",
       "  Rotten_Tomatoes_Rating Metacritic_Rating  \n",
       "0                   None              None  \n",
       "1                    83%              None  \n",
       "2                   None              None  \n",
       "3                    97%            88/100  \n",
       "4                    45%            45/100  "
      ]
     },
     "metadata": {},
     "output_type": "display_data"
    }
   ],
   "source": [
    "from src.utils.data_utils import extract_ratings\n",
    "\n",
    "# apply the extract_ratings function to the 'Ratings' column and store the result in a new 'Ratings_Dict' column\n",
    "merged_movie_metadata['Ratings_Dict'] = merged_movie_metadata['Ratings'].apply(extract_ratings)\n",
    "\n",
    "# extract ratings from different sources and store them in separate columns\n",
    "merged_movie_metadata['Internet_Movie_Database_Rating'] = merged_movie_metadata['Ratings_Dict'].apply(\n",
    "    lambda x: x.get('Internet Movie Database', None)\n",
    ")\n",
    "merged_movie_metadata['Rotten_Tomatoes_Rating'] = merged_movie_metadata['Ratings_Dict'].apply(\n",
    "    lambda x: x.get('Rotten Tomatoes', None)\n",
    ")\n",
    "merged_movie_metadata['Metacritic_Rating'] = merged_movie_metadata['Ratings_Dict'].apply(\n",
    "    lambda x: x.get('Metacritic', None)\n",
    ")\n",
    "\n",
    "# drop the temporary 'Ratings_Dict' column as it is no longer needed\n",
    "merged_movie_metadata = merged_movie_metadata.drop(columns=['Ratings_Dict'])\n",
    "\n",
    "# display the first few rows of relevant columns to verify the changes\n",
    "display(merged_movie_metadata[['Movie_Name', 'Internet_Movie_Database_Rating', 'Rotten_Tomatoes_Rating', 'Metacritic_Rating']].head())"
   ]
  },
  {
   "cell_type": "code",
   "execution_count": 39,
   "metadata": {},
   "outputs": [],
   "source": [
    "from src.utils.data_utils import convert_to_scale_of_10\n",
    "\n",
    "# apply the 'convert_to_scale_of_10' function to the rating columns to standardize them\n",
    "merged_movie_metadata['Internet_Movie_Database_Rating'] = merged_movie_metadata['Internet_Movie_Database_Rating'].apply(convert_to_scale_of_10)\n",
    "merged_movie_metadata['Rotten_Tomatoes_Rating'] = merged_movie_metadata['Rotten_Tomatoes_Rating'].apply(convert_to_scale_of_10)\n",
    "merged_movie_metadata['Metacritic_Rating'] = merged_movie_metadata['Metacritic_Rating'].apply(convert_to_scale_of_10)"
   ]
  },
  {
   "cell_type": "code",
   "execution_count": 40,
   "metadata": {},
   "outputs": [
    {
     "data": {
      "text/html": [
       "<div>\n",
       "<style scoped>\n",
       "    .dataframe tbody tr th:only-of-type {\n",
       "        vertical-align: middle;\n",
       "    }\n",
       "\n",
       "    .dataframe tbody tr th {\n",
       "        vertical-align: top;\n",
       "    }\n",
       "\n",
       "    .dataframe thead th {\n",
       "        text-align: right;\n",
       "    }\n",
       "</style>\n",
       "<table border=\"1\" class=\"dataframe\">\n",
       "  <thead>\n",
       "    <tr style=\"text-align: right;\">\n",
       "      <th></th>\n",
       "      <th>Movie_Name</th>\n",
       "      <th>Internet_Movie_Database_Rating</th>\n",
       "      <th>Rotten_Tomatoes_Rating</th>\n",
       "      <th>Metacritic_Rating</th>\n",
       "    </tr>\n",
       "  </thead>\n",
       "  <tbody>\n",
       "    <tr>\n",
       "      <th>0</th>\n",
       "      <td>The Gangsters</td>\n",
       "      <td>5.9</td>\n",
       "      <td>NaN</td>\n",
       "      <td>NaN</td>\n",
       "    </tr>\n",
       "    <tr>\n",
       "      <th>1</th>\n",
       "      <td>Alexander's Ragtime Band</td>\n",
       "      <td>6.8</td>\n",
       "      <td>8.3</td>\n",
       "      <td>NaN</td>\n",
       "    </tr>\n",
       "    <tr>\n",
       "      <th>2</th>\n",
       "      <td>Contigo y aquí</td>\n",
       "      <td>NaN</td>\n",
       "      <td>NaN</td>\n",
       "      <td>NaN</td>\n",
       "    </tr>\n",
       "    <tr>\n",
       "      <th>3</th>\n",
       "      <td>Mary Poppins</td>\n",
       "      <td>7.8</td>\n",
       "      <td>9.7</td>\n",
       "      <td>8.8</td>\n",
       "    </tr>\n",
       "    <tr>\n",
       "      <th>4</th>\n",
       "      <td>White on Rice</td>\n",
       "      <td>6.1</td>\n",
       "      <td>4.5</td>\n",
       "      <td>4.5</td>\n",
       "    </tr>\n",
       "  </tbody>\n",
       "</table>\n",
       "</div>"
      ],
      "text/plain": [
       "                 Movie_Name  Internet_Movie_Database_Rating  \\\n",
       "0             The Gangsters                             5.9   \n",
       "1  Alexander's Ragtime Band                             6.8   \n",
       "2            Contigo y aquí                             NaN   \n",
       "3              Mary Poppins                             7.8   \n",
       "4             White on Rice                             6.1   \n",
       "\n",
       "   Rotten_Tomatoes_Rating  Metacritic_Rating  \n",
       "0                     NaN                NaN  \n",
       "1                     8.3                NaN  \n",
       "2                     NaN                NaN  \n",
       "3                     9.7                8.8  \n",
       "4                     4.5                4.5  "
      ]
     },
     "metadata": {},
     "output_type": "display_data"
    }
   ],
   "source": [
    "# scale the 'Metacritic_Rating' column to a 0-1 scale by dividing by 100\n",
    "merged_movie_metadata['Metacritic_Rating'] = merged_movie_metadata['Metacritic_Rating'] / 100\n",
    "\n",
    "# display the first few rows of the relevant columns to verify the changes\n",
    "display(merged_movie_metadata[['Movie_Name', 'Internet_Movie_Database_Rating', 'Rotten_Tomatoes_Rating', 'Metacritic_Rating']].head())"
   ]
  },
  {
   "cell_type": "code",
   "execution_count": 41,
   "metadata": {},
   "outputs": [
    {
     "name": "stdout",
     "output_type": "stream",
     "text": [
      "All values in 'Internet_Movie_Database_Rating' are less than 10: True\n",
      "All values in 'Internet_Movie_Database_Rating' are floats: True\n",
      "All values in 'Rotten_Tomatoes_Rating' are less than 10: True\n",
      "All values in 'Rotten_Tomatoes_Rating' are floats: True\n",
      "All values in 'Metacritic_Rating' are less than 10: True\n",
      "All values in 'Metacritic_Rating' are floats: True\n"
     ]
    }
   ],
   "source": [
    "# verify that the specified columns contain only numbers less than 10 and are floats\n",
    "columns_to_check = ['Internet_Movie_Database_Rating', 'Rotten_Tomatoes_Rating', 'Metacritic_Rating']\n",
    "\n",
    "# loop through each column to perform the checks\n",
    "for column in columns_to_check:\n",
    "    # check if all values are less than or equal to 10\n",
    "    all_less_than_10 = merged_movie_metadata[column].apply(\n",
    "        lambda x: x <= 10 if pd.notna(x) else True\n",
    "    ).all()\n",
    "\n",
    "    # check if all values are floats\n",
    "    all_floats = merged_movie_metadata[column].apply(\n",
    "        lambda x: isinstance(x, float) if pd.notna(x) else True\n",
    "    ).all()\n",
    "\n",
    "    # print the results of the checks for each column\n",
    "    print(f\"All values in '{column}' are less than 10: {all_less_than_10}\")\n",
    "    print(f\"All values in '{column}' are floats: {all_floats}\")"
   ]
  },
  {
   "cell_type": "markdown",
   "metadata": {},
   "source": [
    "### Classifying Age Ratings (Rated)"
   ]
  },
  {
   "cell_type": "markdown",
   "metadata": {},
   "source": [
    "This code classifies movie age ratings into broader categories. It defines a function, classifier_age, which assigns ratings to specific groups: \"All Audiences (TP),\" \"Recommended Parental Agreement (AP),\" \"13+,\" \"16+,\" \"18+,\" and \"Not Rated.\" Using predefined lists of ratings, it categorizes each entry in the \"Rated\" column of merged_movie_metadata."
   ]
  },
  {
   "cell_type": "code",
   "execution_count": 42,
   "metadata": {},
   "outputs": [],
   "source": [
    "from src.utils.data_utils import classifier_age\n",
    "\n",
    "# display the value counts for the 'Rated' column to inspect the distribution\n",
    "merged_movie_metadata[\"Rated\"].value_counts()\n",
    "\n",
    "# apply the 'classifier_age' function to the 'Rated' column to categorize the ratings\n",
    "merged_movie_metadata[\"Rated\"] = merged_movie_metadata[\"Rated\"].apply(classifier_age)"
   ]
  },
  {
   "cell_type": "code",
   "execution_count": 21,
   "metadata": {},
   "outputs": [],
   "source": [
    "# Save to a CSV file\n",
    "#merged_movie_metadata.to_csv(merged_movie_metadata.csv, index=False)"
   ]
  }
 ],
 "metadata": {
  "kernelspec": {
   "display_name": "base",
   "language": "python",
   "name": "python3"
  },
  "language_info": {
   "codemirror_mode": {
    "name": "ipython",
    "version": 3
   },
   "file_extension": ".py",
   "mimetype": "text/x-python",
   "name": "python",
   "nbconvert_exporter": "python",
   "pygments_lexer": "ipython3",
   "version": "3.12.4"
  }
 },
 "nbformat": 4,
 "nbformat_minor": 2
}

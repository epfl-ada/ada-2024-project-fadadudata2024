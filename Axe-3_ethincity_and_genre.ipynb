{
 "cells": [
  {
   "cell_type": "code",
   "execution_count": 2,
   "metadata": {},
   "outputs": [],
   "source": [
    "import numpy as np\n",
    "import pandas as pd\n",
    "import os\n",
    "import matplotlib.pyplot as plt"
   ]
  },
  {
   "cell_type": "markdown",
   "metadata": {},
   "source": [
    "# Loading the Data"
   ]
  },
  {
   "cell_type": "code",
   "execution_count": 4,
   "metadata": {},
   "outputs": [],
   "source": [
    "plot_summaries_path = '../MovieSummaries/plot_summaries.txt'\n",
    "movie_metadata_path = '../MovieSummaries/movie.metadata.tsv'\n",
    "character_metadata_path = '../MovieSummaries/character.metadata.tsv'\n",
    "\n",
    "plot_summaries = pd.read_csv(plot_summaries_path, sep='\\t', header=None, names=['Wikipedia_ID', 'Plot_Summary'])\n",
    "\n",
    "# Load movie metadata\n",
    "movie_metadata = pd.read_csv(movie_metadata_path, sep='\\t', header=None, names=['Wikipedia_ID', 'Freebase_ID', 'Movie_Name', 'Release_Date', 'Box_Office_Revenue', 'Runtime', 'Languages', 'Countries', 'Genres'])\n",
    "\n",
    "# Load character metadata\n",
    "character_metadata = pd.read_csv(character_metadata_path, sep='\\t', header=None, names=['Wikipedia_ID', 'Freebase_ID', 'Release_Date', 'Character_Name', 'Actor_Birth_Date', 'Actor_Gender', 'Actor_Height', 'Actor_Ethnicity', 'Actor_Name', 'Actor_Age', 'Character_Actor_Freebase_ID', 'Character_Freebase_ID', 'Actor_Freebase_ID'])\n"
   ]
  },
  {
   "cell_type": "code",
   "execution_count": 5,
   "metadata": {},
   "outputs": [
    {
     "name": "stdout",
     "output_type": "stream",
     "text": [
      "=====PLOT SUMMARIES=====\n"
     ]
    },
    {
     "data": {
      "text/plain": [
       "(42303, 2)"
      ]
     },
     "metadata": {},
     "output_type": "display_data"
    },
    {
     "data": {
      "text/html": [
       "<div>\n",
       "<style scoped>\n",
       "    .dataframe tbody tr th:only-of-type {\n",
       "        vertical-align: middle;\n",
       "    }\n",
       "\n",
       "    .dataframe tbody tr th {\n",
       "        vertical-align: top;\n",
       "    }\n",
       "\n",
       "    .dataframe thead th {\n",
       "        text-align: right;\n",
       "    }\n",
       "</style>\n",
       "<table border=\"1\" class=\"dataframe\">\n",
       "  <thead>\n",
       "    <tr style=\"text-align: right;\">\n",
       "      <th></th>\n",
       "      <th>Wikipedia_ID</th>\n",
       "      <th>Plot_Summary</th>\n",
       "    </tr>\n",
       "  </thead>\n",
       "  <tbody>\n",
       "    <tr>\n",
       "      <th>0</th>\n",
       "      <td>23890098</td>\n",
       "      <td>Shlykov, a hard-working taxi driver and Lyosha...</td>\n",
       "    </tr>\n",
       "    <tr>\n",
       "      <th>1</th>\n",
       "      <td>31186339</td>\n",
       "      <td>The nation of Panem consists of a wealthy Capi...</td>\n",
       "    </tr>\n",
       "  </tbody>\n",
       "</table>\n",
       "</div>"
      ],
      "text/plain": [
       "   Wikipedia_ID                                       Plot_Summary\n",
       "0      23890098  Shlykov, a hard-working taxi driver and Lyosha...\n",
       "1      31186339  The nation of Panem consists of a wealthy Capi..."
      ]
     },
     "metadata": {},
     "output_type": "display_data"
    },
    {
     "name": "stdout",
     "output_type": "stream",
     "text": [
      "=====MOVIE METADATA=====\n"
     ]
    },
    {
     "data": {
      "text/plain": [
       "(81741, 9)"
      ]
     },
     "metadata": {},
     "output_type": "display_data"
    },
    {
     "data": {
      "text/html": [
       "<div>\n",
       "<style scoped>\n",
       "    .dataframe tbody tr th:only-of-type {\n",
       "        vertical-align: middle;\n",
       "    }\n",
       "\n",
       "    .dataframe tbody tr th {\n",
       "        vertical-align: top;\n",
       "    }\n",
       "\n",
       "    .dataframe thead th {\n",
       "        text-align: right;\n",
       "    }\n",
       "</style>\n",
       "<table border=\"1\" class=\"dataframe\">\n",
       "  <thead>\n",
       "    <tr style=\"text-align: right;\">\n",
       "      <th></th>\n",
       "      <th>Wikipedia_ID</th>\n",
       "      <th>Freebase_ID</th>\n",
       "      <th>Movie_Name</th>\n",
       "      <th>Release_Date</th>\n",
       "      <th>Box_Office_Revenue</th>\n",
       "      <th>Runtime</th>\n",
       "      <th>Languages</th>\n",
       "      <th>Countries</th>\n",
       "      <th>Genres</th>\n",
       "    </tr>\n",
       "  </thead>\n",
       "  <tbody>\n",
       "    <tr>\n",
       "      <th>0</th>\n",
       "      <td>975900</td>\n",
       "      <td>/m/03vyhn</td>\n",
       "      <td>Ghosts of Mars</td>\n",
       "      <td>2001-08-24</td>\n",
       "      <td>14010832.0</td>\n",
       "      <td>98.0</td>\n",
       "      <td>{\"/m/02h40lc\": \"English Language\"}</td>\n",
       "      <td>{\"/m/09c7w0\": \"United States of America\"}</td>\n",
       "      <td>{\"/m/01jfsb\": \"Thriller\", \"/m/06n90\": \"Science...</td>\n",
       "    </tr>\n",
       "    <tr>\n",
       "      <th>1</th>\n",
       "      <td>3196793</td>\n",
       "      <td>/m/08yl5d</td>\n",
       "      <td>Getting Away with Murder: The JonBenét Ramsey ...</td>\n",
       "      <td>2000-02-16</td>\n",
       "      <td>NaN</td>\n",
       "      <td>95.0</td>\n",
       "      <td>{\"/m/02h40lc\": \"English Language\"}</td>\n",
       "      <td>{\"/m/09c7w0\": \"United States of America\"}</td>\n",
       "      <td>{\"/m/02n4kr\": \"Mystery\", \"/m/03bxz7\": \"Biograp...</td>\n",
       "    </tr>\n",
       "  </tbody>\n",
       "</table>\n",
       "</div>"
      ],
      "text/plain": [
       "   Wikipedia_ID Freebase_ID  \\\n",
       "0        975900   /m/03vyhn   \n",
       "1       3196793   /m/08yl5d   \n",
       "\n",
       "                                          Movie_Name Release_Date  \\\n",
       "0                                     Ghosts of Mars   2001-08-24   \n",
       "1  Getting Away with Murder: The JonBenét Ramsey ...   2000-02-16   \n",
       "\n",
       "   Box_Office_Revenue  Runtime                           Languages  \\\n",
       "0          14010832.0     98.0  {\"/m/02h40lc\": \"English Language\"}   \n",
       "1                 NaN     95.0  {\"/m/02h40lc\": \"English Language\"}   \n",
       "\n",
       "                                   Countries  \\\n",
       "0  {\"/m/09c7w0\": \"United States of America\"}   \n",
       "1  {\"/m/09c7w0\": \"United States of America\"}   \n",
       "\n",
       "                                              Genres  \n",
       "0  {\"/m/01jfsb\": \"Thriller\", \"/m/06n90\": \"Science...  \n",
       "1  {\"/m/02n4kr\": \"Mystery\", \"/m/03bxz7\": \"Biograp...  "
      ]
     },
     "metadata": {},
     "output_type": "display_data"
    },
    {
     "name": "stdout",
     "output_type": "stream",
     "text": [
      "=====CHAR. METADATA=====\n"
     ]
    },
    {
     "data": {
      "text/plain": [
       "(450669, 13)"
      ]
     },
     "metadata": {},
     "output_type": "display_data"
    },
    {
     "data": {
      "text/html": [
       "<div>\n",
       "<style scoped>\n",
       "    .dataframe tbody tr th:only-of-type {\n",
       "        vertical-align: middle;\n",
       "    }\n",
       "\n",
       "    .dataframe tbody tr th {\n",
       "        vertical-align: top;\n",
       "    }\n",
       "\n",
       "    .dataframe thead th {\n",
       "        text-align: right;\n",
       "    }\n",
       "</style>\n",
       "<table border=\"1\" class=\"dataframe\">\n",
       "  <thead>\n",
       "    <tr style=\"text-align: right;\">\n",
       "      <th></th>\n",
       "      <th>Wikipedia_ID</th>\n",
       "      <th>Freebase_ID</th>\n",
       "      <th>Release_Date</th>\n",
       "      <th>Character_Name</th>\n",
       "      <th>Actor_Birth_Date</th>\n",
       "      <th>Actor_Gender</th>\n",
       "      <th>Actor_Height</th>\n",
       "      <th>Actor_Ethnicity</th>\n",
       "      <th>Actor_Name</th>\n",
       "      <th>Actor_Age</th>\n",
       "      <th>Character_Actor_Freebase_ID</th>\n",
       "      <th>Character_Freebase_ID</th>\n",
       "      <th>Actor_Freebase_ID</th>\n",
       "    </tr>\n",
       "  </thead>\n",
       "  <tbody>\n",
       "    <tr>\n",
       "      <th>0</th>\n",
       "      <td>975900</td>\n",
       "      <td>/m/03vyhn</td>\n",
       "      <td>2001-08-24</td>\n",
       "      <td>Akooshay</td>\n",
       "      <td>1958-08-26</td>\n",
       "      <td>F</td>\n",
       "      <td>1.62</td>\n",
       "      <td>NaN</td>\n",
       "      <td>Wanda De Jesus</td>\n",
       "      <td>42.0</td>\n",
       "      <td>/m/0bgchxw</td>\n",
       "      <td>/m/0bgcj3x</td>\n",
       "      <td>/m/03wcfv7</td>\n",
       "    </tr>\n",
       "    <tr>\n",
       "      <th>1</th>\n",
       "      <td>975900</td>\n",
       "      <td>/m/03vyhn</td>\n",
       "      <td>2001-08-24</td>\n",
       "      <td>Lieutenant Melanie Ballard</td>\n",
       "      <td>1974-08-15</td>\n",
       "      <td>F</td>\n",
       "      <td>1.78</td>\n",
       "      <td>/m/044038p</td>\n",
       "      <td>Natasha Henstridge</td>\n",
       "      <td>27.0</td>\n",
       "      <td>/m/0jys3m</td>\n",
       "      <td>/m/0bgchn4</td>\n",
       "      <td>/m/0346l4</td>\n",
       "    </tr>\n",
       "  </tbody>\n",
       "</table>\n",
       "</div>"
      ],
      "text/plain": [
       "   Wikipedia_ID Freebase_ID Release_Date              Character_Name  \\\n",
       "0        975900   /m/03vyhn   2001-08-24                    Akooshay   \n",
       "1        975900   /m/03vyhn   2001-08-24  Lieutenant Melanie Ballard   \n",
       "\n",
       "  Actor_Birth_Date Actor_Gender  Actor_Height Actor_Ethnicity  \\\n",
       "0       1958-08-26            F          1.62             NaN   \n",
       "1       1974-08-15            F          1.78      /m/044038p   \n",
       "\n",
       "           Actor_Name  Actor_Age Character_Actor_Freebase_ID  \\\n",
       "0      Wanda De Jesus       42.0                  /m/0bgchxw   \n",
       "1  Natasha Henstridge       27.0                   /m/0jys3m   \n",
       "\n",
       "  Character_Freebase_ID Actor_Freebase_ID  \n",
       "0            /m/0bgcj3x        /m/03wcfv7  \n",
       "1            /m/0bgchn4         /m/0346l4  "
      ]
     },
     "metadata": {},
     "output_type": "display_data"
    }
   ],
   "source": [
    "print(\"=====PLOT SUMMARIES=====\")\n",
    "display(plot_summaries.shape, plot_summaries.head(2))\n",
    "print(\"=====MOVIE METADATA=====\")\n",
    "display(movie_metadata.shape, movie_metadata.head(2))\n",
    "print(\"=====CHAR. METADATA=====\")\n",
    "display(character_metadata.shape,character_metadata.head(2))"
   ]
  },
  {
   "cell_type": "code",
   "execution_count": 39,
   "metadata": {},
   "outputs": [
    {
     "name": "stdout",
     "output_type": "stream",
     "text": [
      "=====MERGED MOVIE DATA=====\n"
     ]
    },
    {
     "data": {
      "text/html": [
       "<div>\n",
       "<style scoped>\n",
       "    .dataframe tbody tr th:only-of-type {\n",
       "        vertical-align: middle;\n",
       "    }\n",
       "\n",
       "    .dataframe tbody tr th {\n",
       "        vertical-align: top;\n",
       "    }\n",
       "\n",
       "    .dataframe thead th {\n",
       "        text-align: right;\n",
       "    }\n",
       "</style>\n",
       "<table border=\"1\" class=\"dataframe\">\n",
       "  <thead>\n",
       "    <tr style=\"text-align: right;\">\n",
       "      <th></th>\n",
       "      <th>Wikipedia_ID</th>\n",
       "      <th>Movie_Name</th>\n",
       "      <th>Release_Date</th>\n",
       "      <th>Box_Office_Revenue</th>\n",
       "      <th>Runtime</th>\n",
       "      <th>Languages</th>\n",
       "      <th>Countries</th>\n",
       "      <th>Genres</th>\n",
       "      <th>Continents</th>\n",
       "      <th>Year</th>\n",
       "      <th>...</th>\n",
       "      <th>Production</th>\n",
       "      <th>Website</th>\n",
       "      <th>Response</th>\n",
       "      <th>totalSeasons</th>\n",
       "      <th>Oscar</th>\n",
       "      <th>Nomination_Awards</th>\n",
       "      <th>Win_Awards</th>\n",
       "      <th>Internet_Movie_Database_Rating</th>\n",
       "      <th>Rotten_Tomatoes_Rating</th>\n",
       "      <th>Metacritic_Rating</th>\n",
       "    </tr>\n",
       "  </thead>\n",
       "  <tbody>\n",
       "    <tr>\n",
       "      <th>0</th>\n",
       "      <td>13696889</td>\n",
       "      <td>The Gangsters</td>\n",
       "      <td>1913-05-29</td>\n",
       "      <td>NaN</td>\n",
       "      <td>35.0</td>\n",
       "      <td>['Silent film', 'English Language']</td>\n",
       "      <td>['United States of America']</td>\n",
       "      <td>['Short Film', 'Silent film', 'Indie', 'Black-...</td>\n",
       "      <td>['America']</td>\n",
       "      <td>1957</td>\n",
       "      <td>...</td>\n",
       "      <td>NaN</td>\n",
       "      <td>NaN</td>\n",
       "      <td>True</td>\n",
       "      <td>NaN</td>\n",
       "      <td>0</td>\n",
       "      <td>0</td>\n",
       "      <td>0</td>\n",
       "      <td>5.9</td>\n",
       "      <td>NaN</td>\n",
       "      <td>NaN</td>\n",
       "    </tr>\n",
       "    <tr>\n",
       "      <th>1</th>\n",
       "      <td>10408933</td>\n",
       "      <td>Alexander's Ragtime Band</td>\n",
       "      <td>1938-08-16</td>\n",
       "      <td>3600000.0</td>\n",
       "      <td>106.0</td>\n",
       "      <td>['English Language']</td>\n",
       "      <td>['United States of America']</td>\n",
       "      <td>['Musical', 'Comedy', 'Black-and-white']</td>\n",
       "      <td>['America']</td>\n",
       "      <td>1938</td>\n",
       "      <td>...</td>\n",
       "      <td>NaN</td>\n",
       "      <td>NaN</td>\n",
       "      <td>True</td>\n",
       "      <td>NaN</td>\n",
       "      <td>1</td>\n",
       "      <td>6</td>\n",
       "      <td>1</td>\n",
       "      <td>6.8</td>\n",
       "      <td>8.3</td>\n",
       "      <td>NaN</td>\n",
       "    </tr>\n",
       "  </tbody>\n",
       "</table>\n",
       "<p>2 rows × 33 columns</p>\n",
       "</div>"
      ],
      "text/plain": [
       "   Wikipedia_ID                Movie_Name Release_Date  Box_Office_Revenue  \\\n",
       "0      13696889             The Gangsters   1913-05-29                 NaN   \n",
       "1      10408933  Alexander's Ragtime Band   1938-08-16           3600000.0   \n",
       "\n",
       "   Runtime                            Languages                     Countries  \\\n",
       "0     35.0  ['Silent film', 'English Language']  ['United States of America']   \n",
       "1    106.0                 ['English Language']  ['United States of America']   \n",
       "\n",
       "                                              Genres   Continents  Year  ...  \\\n",
       "0  ['Short Film', 'Silent film', 'Indie', 'Black-...  ['America']  1957  ...   \n",
       "1           ['Musical', 'Comedy', 'Black-and-white']  ['America']  1938  ...   \n",
       "\n",
       "  Production Website Response totalSeasons Oscar Nomination_Awards Win_Awards  \\\n",
       "0        NaN     NaN     True          NaN     0                 0          0   \n",
       "1        NaN     NaN     True          NaN     1                 6          1   \n",
       "\n",
       "  Internet_Movie_Database_Rating  Rotten_Tomatoes_Rating  Metacritic_Rating  \n",
       "0                            5.9                     NaN                NaN  \n",
       "1                            6.8                     8.3                NaN  \n",
       "\n",
       "[2 rows x 33 columns]"
      ]
     },
     "metadata": {},
     "output_type": "display_data"
    }
   ],
   "source": [
    "df = pd.read_csv(\"data/merged_movie_metadata.csv\")\n",
    "print(\"=====MERGED MOVIE DATA=====\")\n",
    "display(df.head(2))"
   ]
  },
  {
   "cell_type": "code",
   "execution_count": 96,
   "metadata": {},
   "outputs": [
    {
     "name": "stdout",
     "output_type": "stream",
     "text": [
      "['Wikipedia_ID', 'Movie_Name', 'Release_Date', 'Box_Office_Revenue', 'Runtime', 'Languages', 'Countries', 'Genres', 'Continents', 'Year', 'Rated', 'Director', 'Writer', 'Actors', 'Plot', 'Awards', 'Poster', 'Ratings', 'Metascore', 'imdbRating', 'imdbVotes', 'imdbID', 'DVD', 'Production', 'Website', 'Response', 'totalSeasons', 'Oscar', 'Nomination_Awards', 'Win_Awards', 'Internet_Movie_Database_Rating', 'Rotten_Tomatoes_Rating', 'Metacritic_Rating']\n"
     ]
    }
   ],
   "source": [
    "print(list(df.columns))"
   ]
  },
  {
   "cell_type": "markdown",
   "metadata": {},
   "source": [
    "# Visualising Data"
   ]
  },
  {
   "cell_type": "code",
   "execution_count": 99,
   "metadata": {},
   "outputs": [
    {
     "data": {
      "text/html": [
       "<style type=\"text/css\">\n",
       "</style>\n",
       "<table id=\"T_3e7c6\" style=\"display:inline\">\n",
       "  <caption><b>Actor Ethnicities</b></caption>\n",
       "  <thead>\n",
       "    <tr>\n",
       "      <th class=\"blank level0\" >&nbsp;</th>\n",
       "      <th id=\"T_3e7c6_level0_col0\" class=\"col_heading level0 col0\" >count</th>\n",
       "    </tr>\n",
       "    <tr>\n",
       "      <th class=\"index_name level0\" >Actor_Ethnicity</th>\n",
       "      <th class=\"blank col0\" >&nbsp;</th>\n",
       "    </tr>\n",
       "  </thead>\n",
       "  <tbody>\n",
       "    <tr>\n",
       "      <th id=\"T_3e7c6_level0_row0\" class=\"row_heading level0 row0\" >nan</th>\n",
       "      <td id=\"T_3e7c6_row0_col0\" class=\"data row0 col0\" >344611</td>\n",
       "    </tr>\n",
       "    <tr>\n",
       "      <th id=\"T_3e7c6_level0_row1\" class=\"row_heading level0 row1\" >/m/0dryh9k</th>\n",
       "      <td id=\"T_3e7c6_row1_col0\" class=\"data row1 col0\" >16351</td>\n",
       "    </tr>\n",
       "    <tr>\n",
       "      <th id=\"T_3e7c6_level0_row2\" class=\"row_heading level0 row2\" >/m/0x67</th>\n",
       "      <td id=\"T_3e7c6_row2_col0\" class=\"data row2 col0\" >10159</td>\n",
       "    </tr>\n",
       "    <tr>\n",
       "      <th id=\"T_3e7c6_level0_row3\" class=\"row_heading level0 row3\" >/m/041rx</th>\n",
       "      <td id=\"T_3e7c6_row3_col0\" class=\"data row3 col0\" >10121</td>\n",
       "    </tr>\n",
       "    <tr>\n",
       "      <th id=\"T_3e7c6_level0_row4\" class=\"row_heading level0 row4\" >/m/02w7gg</th>\n",
       "      <td id=\"T_3e7c6_row4_col0\" class=\"data row4 col0\" >6165</td>\n",
       "    </tr>\n",
       "    <tr>\n",
       "      <th id=\"T_3e7c6_level0_row5\" class=\"row_heading level0 row5\" >/m/033tf_</th>\n",
       "      <td id=\"T_3e7c6_row5_col0\" class=\"data row5 col0\" >3857</td>\n",
       "    </tr>\n",
       "    <tr>\n",
       "      <th id=\"T_3e7c6_level0_row6\" class=\"row_heading level0 row6\" >/m/0xnvg</th>\n",
       "      <td id=\"T_3e7c6_row6_col0\" class=\"data row6 col0\" >2956</td>\n",
       "    </tr>\n",
       "    <tr>\n",
       "      <th id=\"T_3e7c6_level0_row7\" class=\"row_heading level0 row7\" >/m/02ctzb</th>\n",
       "      <td id=\"T_3e7c6_row7_col0\" class=\"data row7 col0\" >2307</td>\n",
       "    </tr>\n",
       "    <tr>\n",
       "      <th id=\"T_3e7c6_level0_row8\" class=\"row_heading level0 row8\" >/m/07hwkr</th>\n",
       "      <td id=\"T_3e7c6_row8_col0\" class=\"data row8 col0\" >2250</td>\n",
       "    </tr>\n",
       "    <tr>\n",
       "      <th id=\"T_3e7c6_level0_row9\" class=\"row_heading level0 row9\" >/m/07bch9</th>\n",
       "      <td id=\"T_3e7c6_row9_col0\" class=\"data row9 col0\" >2223</td>\n",
       "    </tr>\n",
       "  </tbody>\n",
       "</table>\n"
      ],
      "text/plain": [
       "<pandas.io.formats.style.Styler at 0x326369d10>"
      ]
     },
     "metadata": {},
     "output_type": "display_data"
    }
   ],
   "source": [
    "display(character_metadata['Actor_Ethnicity'].value_counts(dropna = False).head(10).to_frame().style.set_table_attributes('style=\"display:inline\"').set_caption('<b>Actor Ethnicities</b>'))"
   ]
  },
  {
   "cell_type": "code",
   "execution_count": 101,
   "metadata": {},
   "outputs": [
    {
     "data": {
      "text/plain": [
       "479"
      ]
     },
     "execution_count": 101,
     "metadata": {},
     "output_type": "execute_result"
    }
   ],
   "source": [
    "unique_count = character_metadata['Actor_Ethnicity'].nunique()\n",
    "unique_values = character_metadata['Actor_Ethnicity'].unique()\n",
    "unique_count"
   ]
  },
  {
   "cell_type": "code",
   "execution_count": 105,
   "metadata": {},
   "outputs": [
    {
     "data": {
      "text/plain": [
       "array([nan, '/m/044038p', '/m/0x67', '/m/064b9n', '/m/041rx', '/m/033tf_',\n",
       "       '/m/04gfy7', '/m/0222qb', '/m/01qhm_', '/m/0dryh9k', '/m/048sp5',\n",
       "       '/m/04mvp8', '/m/0bzkm2', '/m/02p1pl6', '/m/0bjbszh', '/m/022fdt',\n",
       "       '/m/0cqgdq', '/m/0ffkb4', '/m/075dhf0', '/m/01hwt', '/m/0xnvg',\n",
       "       '/m/0dqqwy', '/m/048z7l', '/m/07bch9', '/m/09v5bdn', '/m/02w7gg',\n",
       "       '/m/03bkbh', '/m/02vsw1', '/m/09kr66', '/m/09vc4s', '/m/0g0x7_',\n",
       "       '/m/042gtr', '/m/0cm7w1', '/m/046cwm', '/m/04dbw3', '/m/02ctzb',\n",
       "       '/m/0g8_vp', '/m/092h2qt', '/m/0g6ff', '/m/0278pqj', '/m/0301y_',\n",
       "       '/m/019kn7', '/m/0cnvdq1', '/m/03295l', '/m/065b6q', '/m/03pqwy',\n",
       "       '/m/01xhh5', '/m/03ts0c', '/m/06gbnc', '/m/07hwkr', '/m/0bpjh3',\n",
       "       '/m/0fpjs3j', '/m/04nrnz', '/m/09k5jvk', '/m/07mqps', '/m/08hpk0',\n",
       "       '/m/03ttfc', '/m/0d9q7j', '/m/075_n6', '/m/0dllcfn', '/m/04kbvpz',\n",
       "       '/m/03ftx7', '/m/0747611', '/m/025rpb0', '/m/06mvq', '/m/047l_90',\n",
       "       '/m/029f2r', '/m/01rv7x', '/m/05sf2x', '/m/01336l', '/m/0bh91q8',\n",
       "       '/m/01g7zj', '/m/0cn68', '/m/02sch9', '/m/0fqp6zk', '/m/02y_9mh',\n",
       "       '/m/0d7wh', '/m/0g96wd', '/m/047948f', '/m/04ggbzy', '/m/04q7gbh',\n",
       "       '/m/013xrm', '/m/0gkxl2', '/m/0dbxy', '/m/0cmdl5l', '/m/0268d21',\n",
       "       '/m/0912ll', '/m/022dp5', '/m/019lrz', '/m/03bx0k4', '/m/02p_gby',\n",
       "       '/m/012c1l', '/m/04y29', '/m/09743', '/m/03w9bjf', '/m/09m6hr',\n",
       "       '/m/0583cz', '/m/02g7sp', '/m/063k3h', '/m/071x0k', '/m/0bhsnb',\n",
       "       '/m/0bkbz', '/m/0f0gt_', '/m/0283js_', '/m/01kg2v', '/m/0828vj',\n",
       "       '/m/08v2k7', '/m/03gskx0', '/m/0h2138', '/m/0fng3k', '/m/023mqw',\n",
       "       '/m/0222hg', '/m/09vmyh', '/m/06fczy', '/m/03lmx1', '/m/03vv99',\n",
       "       '/m/09zyn5', '/m/0470lk', '/m/0fj1k9', '/m/03cbkrf', '/m/0bbz66j',\n",
       "       '/m/0268_k', '/m/04dzwby', '/m/04y8_bm', '/m/0ffhz3', '/m/0ffj5g',\n",
       "       '/m/06j2v', '/m/03cjjy0', '/m/06v41q', '/m/032j30', '/m/01n94b',\n",
       "       '/m/0d2by', '/m/038723', '/m/0g5y6', '/m/09cqth', '/m/0bymc',\n",
       "       '/m/0d8qh0', '/m/0c2hxm', '/m/04znbg', '/m/027n1m6', '/m/02czfr',\n",
       "       '/m/0g48m4', '/m/01swvz', '/m/04tvpv', '/m/0462jl6', '/m/025_0f0',\n",
       "       '/m/0j6x8', '/m/05ysft4', '/m/01ylpf', '/m/0bnzjx', '/m/04f581',\n",
       "       '/m/0ch3pqf', '/m/02p4q5p', '/m/02wcbj_', '/m/02jvpv', '/m/08gzsf',\n",
       "       '/m/02p444n', '/m/07j80c', '/m/0btrm4', '/m/04608z', '/m/065z7w_',\n",
       "       '/m/0b0gzf', '/m/033njm', '/m/02rbdlq', '/m/01xttr', '/m/062_25',\n",
       "       '/m/01nbcy', '/m/02cm28', '/m/0bns36b', '/m/0fqz6', '/m/047bp1r',\n",
       "       '/m/0bs7l_v', '/m/02qv_h_', '/m/0dv5vw', '/m/026c9dq',\n",
       "       '/m/0b__fv3', '/m/018s6c', '/m/03yk6g', '/m/05l3g_', '/m/0ckk60',\n",
       "       '/m/0bfjm7', '/m/04jq32s', '/m/0790v', '/m/01trsl', '/m/03cdk7b',\n",
       "       '/m/02q206y', '/m/05g0f1', '/m/067lwk', '/m/05748', '/m/033qxt',\n",
       "       '/m/097nms', '/m/04czx7', '/m/08xbxs', '/m/0432mrk', '/m/059_w',\n",
       "       '/m/01ywdy', '/m/0289z8v', '/m/013b6_', '/m/03f3sf', '/m/017sq0',\n",
       "       '/m/04_hr_', '/m/071drf', '/m/0hbz9xw', '/m/01j2qv', '/m/0640_7q',\n",
       "       '/m/02p656s', '/m/0dj8k3', '/m/0466nw8', '/m/07d_p8', '/m/078vc',\n",
       "       '/m/09gp4', '/m/06lshc', '/m/0404kdr', '/m/016f5d', '/m/04mmhj',\n",
       "       '/m/067lts', '/m/0761bp', '/m/0bbcnlt', '/m/06rd7', '/m/095mw2',\n",
       "       '/m/09y7x4', '/m/08cjt2', '/m/013s3n', '/m/0g4pffv', '/m/09gk_6h',\n",
       "       '/m/034s7b', '/m/0987ctr', '/m/04_bc8', '/m/0b98sy', '/m/0ffjqy',\n",
       "       '/m/0fk1z', '/m/074w_m', '/m/03cl2pz', '/m/07gzw5', '/m/086wp0',\n",
       "       '/m/01g0y_', '/m/04k02l', '/m/02p7gyv', '/m/03sx6v', '/m/0bfrrj',\n",
       "       '/m/02pzb09', '/m/052r3t', '/m/0268pvf', '/m/013s2p', '/m/09chmw',\n",
       "       '/m/0ft9bs', '/m/013b7g', '/m/02r_qms', '/m/0cx3p', '/m/026cybk',\n",
       "       '/m/04ydrsn', '/m/067lrj', '/m/0c3wsgg', '/m/04zjjt', '/m/0180zw',\n",
       "       '/m/0hj35', '/m/025tvhm', '/m/01p7s6', '/m/02rp50t', '/m/025x6k1',\n",
       "       '/m/0150zs', '/m/0j4w_', '/m/04l_pt', '/m/0br_8h', '/m/0266mf0',\n",
       "       '/m/03cnzsg', '/m/04hlx1', '/m/0288fw3', '/m/02vkw95',\n",
       "       '/m/0fq6zlv', '/m/01sq7s', '/m/03r_k', '/m/0fk3s', '/m/046j25',\n",
       "       '/m/0338zd', '/m/027lf0d', '/m/0152s7', '/m/03d19xz', '/m/0520604',\n",
       "       '/m/04_tz7', '/m/01vsch', '/m/01d7kx', '/m/051wcch', '/m/09lz9zx',\n",
       "       '/m/0738n4', '/m/0ffjvd', '/m/051x6yk', '/m/05sycg', '/m/0fp54b',\n",
       "       '/m/027vy0s', '/m/0gf5k1', '/m/0dc58y8', '/m/07g8yp', '/m/0444sm4',\n",
       "       '/m/0318mh', '/m/07hyjp', '/m/01c034', '/m/09fqz7', '/m/03ndvw',\n",
       "       '/m/0b79c7', '/m/0665pp', '/m/03d26m9', '/m/04lhn7b', '/m/03h1dq9',\n",
       "       '/m/0152wh', '/m/0cc5y74', '/m/0960kn', '/m/012f86', '/m/0h6mqq9',\n",
       "       '/m/03wbmrc', '/m/0dqrh8', '/m/07n8wy', '/m/01267', '/m/01mw1s',\n",
       "       '/m/02gx2x', '/m/03x_lpj', '/m/02rm7_9', '/m/04csgrq',\n",
       "       '/m/05qb937', '/m/0xff', '/m/05vhv7', '/m/078ds', '/m/0dq1q',\n",
       "       '/m/04wy6k', '/m/03vghh', '/m/065577s', '/m/0463n9y', '/m/0d32d1',\n",
       "       '/m/0c41n', '/m/03ck8x1', '/m/09snp5', '/m/0fxmtg', '/m/02r11hz',\n",
       "       '/m/0268xtg', '/m/026kx7g', '/m/09tqq8q', '/m/03kbr', '/m/05c60ml',\n",
       "       '/m/05mtdy', '/m/064pj', '/m/026zlyd', '/m/08yg47', '/m/03x_fq7',\n",
       "       '/m/06k6sl', '/m/0b8yvr', '/m/01tyl3', '/m/04sfz4s', '/m/02vkd28',\n",
       "       '/m/0647lm', '/m/0bvnws', '/m/07lv5x', '/m/02r3wfk', '/m/02qv716',\n",
       "       '/m/0h8mzsl', '/m/01nft3', '/m/031_sd', '/m/0ffhvl', '/m/07s49c2',\n",
       "       '/m/03hf_6z', '/m/0d8qls', '/m/03fk0c', '/m/01crfj', '/m/0h1nk0k',\n",
       "       '/m/01flqq', '/m/021pd', '/m/0bms44', '/m/07s9g04', '/m/03ty8_',\n",
       "       '/m/02rdfpy', '/m/02vys3l', '/m/03fvrb', '/m/04pnf', '/m/0bvjpj',\n",
       "       '/m/039z49', '/m/01_5cg', '/m/03q819', '/m/025xss1', '/m/0c29q8',\n",
       "       '/m/013s41', '/m/03x1x', '/m/05cc9h', '/m/03m9my8', '/m/0165md',\n",
       "       '/m/0g44f5', '/m/0gtwjz6', '/m/01hm_', '/m/03zcwh', '/m/04lgl9t',\n",
       "       '/m/0g5k7qv', '/m/067lv3', '/m/0ftlzz', '/m/06y24j', '/m/02m0kh',\n",
       "       '/m/01l0ty', '/m/03cmqbt', '/m/0g5rkt4', '/m/02dd5z', '/m/01gr8h',\n",
       "       '/m/01vr3v', '/m/09g34_', '/m/09cd0m', '/m/03h11s3', '/m/05ms3p0',\n",
       "       '/m/04lfc70', '/m/06dy2k', '/m/013z8m', '/m/0ftwg', '/m/0fk55',\n",
       "       '/m/06bkf', '/m/0c_lbq', '/m/0301xt', '/m/01kb9y', '/m/042199j',\n",
       "       '/m/03m3p6w', '/m/0br_9j', '/m/032m0b', '/m/05y2yj', '/m/01f9bg',\n",
       "       '/m/04hqxn', '/m/068y7m', '/m/06w4lv', '/m/0ffk5n', '/m/03gy1h2',\n",
       "       '/m/04wysy', '/m/04fh1b', '/m/01h4n', '/m/044bp_', '/m/0dtkkb',\n",
       "       '/m/0fp4n', '/m/0166vx', '/m/047q05d', '/m/0c50f', '/m/01srl7',\n",
       "       '/m/0fpxlz9', '/m/03lnnd', '/m/02pj9yr', '/m/04118b', '/m/0bdynxs',\n",
       "       '/m/01gby2', '/m/0dn1_0', '/m/062szv5', '/m/062zk4r', '/m/043_z22',\n",
       "       '/m/097r55', '/m/035b50', '/m/01hphz', '/m/033fjj', '/m/0b3zsn',\n",
       "       '/m/04lhnps', '/m/08c25t', '/m/05sng', '/m/05bzpzx', '/m/064rb5l',\n",
       "       '/m/01km_m', '/m/059v8', '/m/03b_13l', '/m/09c8kp', '/m/05ztd1',\n",
       "       '/m/04c28', '/m/03sk2', '/m/04jtjvt', '/m/03hjx6f', '/m/027936c',\n",
       "       '/m/03nvq', '/m/03nz70', '/m/01g3rx', '/m/02wz7j', '/m/04kdwcx',\n",
       "       '/m/04_8lfc', '/m/033qt1', '/m/08j1fb', '/m/07wsyr', '/m/06vb7b',\n",
       "       '/m/012fh', '/m/0dm3xpw', '/m/09r2kh', '/m/02ry8mk', '/m/029q52',\n",
       "       '/m/026d074', '/m/013y54'], dtype=object)"
      ]
     },
     "execution_count": 105,
     "metadata": {},
     "output_type": "execute_result"
    }
   ],
   "source": [
    "unique_values"
   ]
  },
  {
   "cell_type": "code",
   "execution_count": 98,
   "metadata": {},
   "outputs": [
    {
     "data": {
      "text/html": [
       "<style type=\"text/css\">\n",
       "</style>\n",
       "<table id=\"T_d22b4\" style=\"display:inline\">\n",
       "  <caption><b>Actors</b></caption>\n",
       "  <thead>\n",
       "    <tr>\n",
       "      <th class=\"blank level0\" >&nbsp;</th>\n",
       "      <th id=\"T_d22b4_level0_col0\" class=\"col_heading level0 col0\" >count</th>\n",
       "    </tr>\n",
       "    <tr>\n",
       "      <th class=\"index_name level0\" >Actor_Name</th>\n",
       "      <th class=\"blank col0\" >&nbsp;</th>\n",
       "    </tr>\n",
       "  </thead>\n",
       "  <tbody>\n",
       "    <tr>\n",
       "      <th id=\"T_d22b4_level0_row0\" class=\"row_heading level0 row0\" >nan</th>\n",
       "      <td id=\"T_d22b4_row0_col0\" class=\"data row0 col0\" >1228</td>\n",
       "    </tr>\n",
       "    <tr>\n",
       "      <th id=\"T_d22b4_level0_row1\" class=\"row_heading level0 row1\" >Mel Blanc</th>\n",
       "      <td id=\"T_d22b4_row1_col0\" class=\"data row1 col0\" >791</td>\n",
       "    </tr>\n",
       "    <tr>\n",
       "      <th id=\"T_d22b4_level0_row2\" class=\"row_heading level0 row2\" >Mithun Chakraborty</th>\n",
       "      <td id=\"T_d22b4_row2_col0\" class=\"data row2 col0\" >328</td>\n",
       "    </tr>\n",
       "    <tr>\n",
       "      <th id=\"T_d22b4_level0_row3\" class=\"row_heading level0 row3\" >Oliver Hardy</th>\n",
       "      <td id=\"T_d22b4_row3_col0\" class=\"data row3 col0\" >299</td>\n",
       "    </tr>\n",
       "    <tr>\n",
       "      <th id=\"T_d22b4_level0_row4\" class=\"row_heading level0 row4\" >Mohanlal</th>\n",
       "      <td id=\"T_d22b4_row4_col0\" class=\"data row4 col0\" >234</td>\n",
       "    </tr>\n",
       "    <tr>\n",
       "      <th id=\"T_d22b4_level0_row5\" class=\"row_heading level0 row5\" >Moe Howard</th>\n",
       "      <td id=\"T_d22b4_row5_col0\" class=\"data row5 col0\" >225</td>\n",
       "    </tr>\n",
       "    <tr>\n",
       "      <th id=\"T_d22b4_level0_row6\" class=\"row_heading level0 row6\" >Mammootty</th>\n",
       "      <td id=\"T_d22b4_row6_col0\" class=\"data row6 col0\" >225</td>\n",
       "    </tr>\n",
       "    <tr>\n",
       "      <th id=\"T_d22b4_level0_row7\" class=\"row_heading level0 row7\" >Dharmendra Deol</th>\n",
       "      <td id=\"T_d22b4_row7_col0\" class=\"data row7 col0\" >219</td>\n",
       "    </tr>\n",
       "    <tr>\n",
       "      <th id=\"T_d22b4_level0_row8\" class=\"row_heading level0 row8\" >Larry Fine</th>\n",
       "      <td id=\"T_d22b4_row8_col0\" class=\"data row8 col0\" >219</td>\n",
       "    </tr>\n",
       "    <tr>\n",
       "      <th id=\"T_d22b4_level0_row9\" class=\"row_heading level0 row9\" >Amitabh Bachchan</th>\n",
       "      <td id=\"T_d22b4_row9_col0\" class=\"data row9 col0\" >206</td>\n",
       "    </tr>\n",
       "  </tbody>\n",
       "</table>\n"
      ],
      "text/plain": [
       "<pandas.io.formats.style.Styler at 0x32636a350>"
      ]
     },
     "metadata": {},
     "output_type": "display_data"
    }
   ],
   "source": [
    "display(character_metadata['Actor_Name'].value_counts(dropna = False).head(10).to_frame().style.set_table_attributes('style=\"display:inline\"').set_caption('<b>Actors</b>'))"
   ]
  },
  {
   "cell_type": "code",
   "execution_count": 37,
   "metadata": {},
   "outputs": [
    {
     "data": {
      "image/png": "[encoded data removed]",
      "text/plain": [
       "<Figure size 432x288 with 1 Axes>"
      ]
     },
     "metadata": {
      "needs_background": "light"
     },
     "output_type": "display_data"
    }
   ],
   "source": [
    "ethnicity_count=character_metadata['Actor_Ethnicity'].value_counts(dropna = False).head(30).to_frame()\n",
    "# Plot the histogram\n",
    "ethnicity_count.plot(kind='bar', color='skyblue')\n",
    "plt.title('Histogram of Value Counts in character_metadata[Actor_Ethnicity]')\n",
    "plt.xlabel('Result', fontdict={'fontsize': 14, 'fontweight': 'bold'})\n",
    "plt.ylabel('Frequency', fontdict={'fontsize': 14, 'fontweight': 'bold'})\n",
    "plt.xticks(rotation=45)\n",
    "plt.show()"
   ]
  },
  {
   "cell_type": "markdown",
   "metadata": {},
   "source": [
    "### This huge proportion of NaN is an issue..."
   ]
  },
  {
   "cell_type": "code",
   "execution_count": 89,
   "metadata": {},
   "outputs": [
    {
     "data": {
      "text/html": [
       "<div>\n",
       "<style scoped>\n",
       "    .dataframe tbody tr th:only-of-type {\n",
       "        vertical-align: middle;\n",
       "    }\n",
       "\n",
       "    .dataframe tbody tr th {\n",
       "        vertical-align: top;\n",
       "    }\n",
       "\n",
       "    .dataframe thead th {\n",
       "        text-align: right;\n",
       "    }\n",
       "</style>\n",
       "<table border=\"1\" class=\"dataframe\">\n",
       "  <thead>\n",
       "    <tr style=\"text-align: right;\">\n",
       "      <th></th>\n",
       "      <th>Wikipedia_ID</th>\n",
       "      <th>Freebase_ID</th>\n",
       "      <th>Release_Date</th>\n",
       "      <th>Character_Name</th>\n",
       "      <th>Actor_Birth_Date</th>\n",
       "      <th>Actor_Gender</th>\n",
       "      <th>Actor_Height</th>\n",
       "      <th>Actor_Ethnicity</th>\n",
       "      <th>Actor_Name</th>\n",
       "      <th>Actor_Age</th>\n",
       "      <th>Character_Actor_Freebase_ID</th>\n",
       "      <th>Character_Freebase_ID</th>\n",
       "      <th>Actor_Freebase_ID</th>\n",
       "    </tr>\n",
       "  </thead>\n",
       "  <tbody>\n",
       "    <tr>\n",
       "      <th>0</th>\n",
       "      <td>975900</td>\n",
       "      <td>/m/03vyhn</td>\n",
       "      <td>2001-08-24</td>\n",
       "      <td>Akooshay</td>\n",
       "      <td>1958-08-26</td>\n",
       "      <td>F</td>\n",
       "      <td>1.62</td>\n",
       "      <td>NaN</td>\n",
       "      <td>Wanda De Jesus</td>\n",
       "      <td>42.0</td>\n",
       "      <td>/m/0bgchxw</td>\n",
       "      <td>/m/0bgcj3x</td>\n",
       "      <td>/m/03wcfv7</td>\n",
       "    </tr>\n",
       "    <tr>\n",
       "      <th>3</th>\n",
       "      <td>975900</td>\n",
       "      <td>/m/03vyhn</td>\n",
       "      <td>2001-08-24</td>\n",
       "      <td>Sgt Jericho Butler</td>\n",
       "      <td>1967-09-12</td>\n",
       "      <td>M</td>\n",
       "      <td>1.75</td>\n",
       "      <td>NaN</td>\n",
       "      <td>Jason Statham</td>\n",
       "      <td>33.0</td>\n",
       "      <td>/m/02vchl6</td>\n",
       "      <td>/m/0bgchnq</td>\n",
       "      <td>/m/034hyc</td>\n",
       "    </tr>\n",
       "    <tr>\n",
       "      <th>4</th>\n",
       "      <td>975900</td>\n",
       "      <td>/m/03vyhn</td>\n",
       "      <td>2001-08-24</td>\n",
       "      <td>Bashira Kincaid</td>\n",
       "      <td>1977-09-25</td>\n",
       "      <td>F</td>\n",
       "      <td>1.65</td>\n",
       "      <td>NaN</td>\n",
       "      <td>Clea DuVall</td>\n",
       "      <td>23.0</td>\n",
       "      <td>/m/02vbb3r</td>\n",
       "      <td>/m/0bgchp9</td>\n",
       "      <td>/m/01y9xg</td>\n",
       "    </tr>\n",
       "  </tbody>\n",
       "</table>\n",
       "</div>"
      ],
      "text/plain": [
       "   Wikipedia_ID Freebase_ID Release_Date      Character_Name Actor_Birth_Date  \\\n",
       "0        975900   /m/03vyhn   2001-08-24            Akooshay       1958-08-26   \n",
       "3        975900   /m/03vyhn   2001-08-24  Sgt Jericho Butler       1967-09-12   \n",
       "4        975900   /m/03vyhn   2001-08-24     Bashira Kincaid       1977-09-25   \n",
       "\n",
       "  Actor_Gender  Actor_Height Actor_Ethnicity      Actor_Name  Actor_Age  \\\n",
       "0            F          1.62             NaN  Wanda De Jesus       42.0   \n",
       "3            M          1.75             NaN   Jason Statham       33.0   \n",
       "4            F          1.65             NaN     Clea DuVall       23.0   \n",
       "\n",
       "  Character_Actor_Freebase_ID Character_Freebase_ID Actor_Freebase_ID  \n",
       "0                  /m/0bgchxw            /m/0bgcj3x        /m/03wcfv7  \n",
       "3                  /m/02vchl6            /m/0bgchnq         /m/034hyc  \n",
       "4                  /m/02vbb3r            /m/0bgchp9         /m/01y9xg  "
      ]
     },
     "metadata": {},
     "output_type": "display_data"
    }
   ],
   "source": [
    "character_metadata__ethnicity_nan = character_metadata[pd.isna(character_metadata['Actor_Ethnicity'])]\n",
    "display(character_metadata__ethnicity_nan.head(3))"
   ]
  },
  {
   "cell_type": "code",
   "execution_count": 90,
   "metadata": {},
   "outputs": [
    {
     "data": {
      "text/html": [
       "<style type=\"text/css\">\n",
       "</style>\n",
       "<table id=\"T_078fa\" style=\"display:inline\">\n",
       "  <caption><b>Actor Gender</b></caption>\n",
       "  <thead>\n",
       "    <tr>\n",
       "      <th class=\"blank level0\" >&nbsp;</th>\n",
       "      <th id=\"T_078fa_level0_col0\" class=\"col_heading level0 col0\" >count</th>\n",
       "    </tr>\n",
       "    <tr>\n",
       "      <th class=\"index_name level0\" >Actor_Gender</th>\n",
       "      <th class=\"blank col0\" >&nbsp;</th>\n",
       "    </tr>\n",
       "  </thead>\n",
       "  <tbody>\n",
       "    <tr>\n",
       "      <th id=\"T_078fa_level0_row0\" class=\"row_heading level0 row0\" >M</th>\n",
       "      <td id=\"T_078fa_row0_col0\" class=\"data row0 col0\" >270257</td>\n",
       "    </tr>\n",
       "    <tr>\n",
       "      <th id=\"T_078fa_level0_row1\" class=\"row_heading level0 row1\" >F</th>\n",
       "      <td id=\"T_078fa_row1_col0\" class=\"data row1 col0\" >134803</td>\n",
       "    </tr>\n",
       "    <tr>\n",
       "      <th id=\"T_078fa_level0_row2\" class=\"row_heading level0 row2\" >nan</th>\n",
       "      <td id=\"T_078fa_row2_col0\" class=\"data row2 col0\" >45609</td>\n",
       "    </tr>\n",
       "  </tbody>\n",
       "</table>\n"
      ],
      "text/plain": [
       "<pandas.io.formats.style.Styler at 0x326309950>"
      ]
     },
     "metadata": {},
     "output_type": "display_data"
    }
   ],
   "source": [
    "gender_count=character_metadata['Actor_Gender'].value_counts(dropna = False)\n",
    "display(gender_count.head(30).to_frame().style.set_table_attributes('style=\"display:inline\"').set_caption('<b>Actor Gender</b>'))"
   ]
  },
  {
   "cell_type": "code",
   "execution_count": 91,
   "metadata": {},
   "outputs": [
    {
     "data": {
      "text/html": [
       "<div>\n",
       "<style scoped>\n",
       "    .dataframe tbody tr th:only-of-type {\n",
       "        vertical-align: middle;\n",
       "    }\n",
       "\n",
       "    .dataframe tbody tr th {\n",
       "        vertical-align: top;\n",
       "    }\n",
       "\n",
       "    .dataframe thead th {\n",
       "        text-align: right;\n",
       "    }\n",
       "</style>\n",
       "<table border=\"1\" class=\"dataframe\">\n",
       "  <thead>\n",
       "    <tr style=\"text-align: right;\">\n",
       "      <th></th>\n",
       "      <th>Wikipedia_ID</th>\n",
       "      <th>Freebase_ID</th>\n",
       "      <th>Release_Date</th>\n",
       "      <th>Character_Name</th>\n",
       "      <th>Actor_Birth_Date</th>\n",
       "      <th>Actor_Gender</th>\n",
       "      <th>Actor_Height</th>\n",
       "      <th>Actor_Ethnicity</th>\n",
       "      <th>Actor_Name</th>\n",
       "      <th>Actor_Age</th>\n",
       "      <th>Character_Actor_Freebase_ID</th>\n",
       "      <th>Character_Freebase_ID</th>\n",
       "      <th>Actor_Freebase_ID</th>\n",
       "    </tr>\n",
       "  </thead>\n",
       "  <tbody>\n",
       "    <tr>\n",
       "      <th>51</th>\n",
       "      <td>2238856</td>\n",
       "      <td>/m/06yc6v</td>\n",
       "      <td>2005-01</td>\n",
       "      <td>Sylvie's Dad</td>\n",
       "      <td>NaN</td>\n",
       "      <td>NaN</td>\n",
       "      <td>NaN</td>\n",
       "      <td>NaN</td>\n",
       "      <td>James Kayten</td>\n",
       "      <td>NaN</td>\n",
       "      <td>/m/0g98dw2</td>\n",
       "      <td>/m/0g98dw5</td>\n",
       "      <td>/m/0g98dwd</td>\n",
       "    </tr>\n",
       "    <tr>\n",
       "      <th>82</th>\n",
       "      <td>612710</td>\n",
       "      <td>/m/02wjqm</td>\n",
       "      <td>1999-10-01</td>\n",
       "      <td>NaN</td>\n",
       "      <td>NaN</td>\n",
       "      <td>NaN</td>\n",
       "      <td>NaN</td>\n",
       "      <td>NaN</td>\n",
       "      <td>Kimmy Suzuki</td>\n",
       "      <td>NaN</td>\n",
       "      <td>/m/0gdk_8c</td>\n",
       "      <td>NaN</td>\n",
       "      <td>/m/0gdk_8f</td>\n",
       "    </tr>\n",
       "    <tr>\n",
       "      <th>83</th>\n",
       "      <td>31983669</td>\n",
       "      <td>/m/0g4_n3m</td>\n",
       "      <td>1931-09-30</td>\n",
       "      <td>Lelka, aka 'Merizhka'</td>\n",
       "      <td>NaN</td>\n",
       "      <td>NaN</td>\n",
       "      <td>NaN</td>\n",
       "      <td>NaN</td>\n",
       "      <td>Mariya Gonfa</td>\n",
       "      <td>NaN</td>\n",
       "      <td>/m/0g4_nf5</td>\n",
       "      <td>/m/0g4_ncn</td>\n",
       "      <td>/m/0g4_nck</td>\n",
       "    </tr>\n",
       "  </tbody>\n",
       "</table>\n",
       "</div>"
      ],
      "text/plain": [
       "    Wikipedia_ID Freebase_ID Release_Date         Character_Name  \\\n",
       "51       2238856   /m/06yc6v      2005-01           Sylvie's Dad   \n",
       "82        612710   /m/02wjqm   1999-10-01                    NaN   \n",
       "83      31983669  /m/0g4_n3m   1931-09-30  Lelka, aka 'Merizhka'   \n",
       "\n",
       "   Actor_Birth_Date Actor_Gender  Actor_Height Actor_Ethnicity    Actor_Name  \\\n",
       "51              NaN          NaN           NaN             NaN  James Kayten   \n",
       "82              NaN          NaN           NaN             NaN  Kimmy Suzuki   \n",
       "83              NaN          NaN           NaN             NaN  Mariya Gonfa   \n",
       "\n",
       "    Actor_Age Character_Actor_Freebase_ID Character_Freebase_ID  \\\n",
       "51        NaN                  /m/0g98dw2            /m/0g98dw5   \n",
       "82        NaN                  /m/0gdk_8c                   NaN   \n",
       "83        NaN                  /m/0g4_nf5            /m/0g4_ncn   \n",
       "\n",
       "   Actor_Freebase_ID  \n",
       "51        /m/0g98dwd  \n",
       "82        /m/0gdk_8f  \n",
       "83        /m/0g4_nck  "
      ]
     },
     "metadata": {},
     "output_type": "display_data"
    }
   ],
   "source": [
    "character_metadata_gender_nan = character_metadata[pd.isna(character_metadata['Actor_Gender'])]\n",
    "display(character_metadata_gender_nan.head(3))"
   ]
  },
  {
   "cell_type": "code",
   "execution_count": 92,
   "metadata": {},
   "outputs": [
    {
     "data": {
      "text/plain": [
       "(np.int64(270257), np.int64(134803))"
      ]
     },
     "execution_count": 92,
     "metadata": {},
     "output_type": "execute_result"
    }
   ],
   "source": [
    "m_count = character_metadata['Actor_Gender'].value_counts().get('M', 0)\n",
    "f_count = character_metadata['Actor_Gender'].value_counts().get('F', 0)\n",
    "m_count, f_count"
   ]
  },
  {
   "cell_type": "code",
   "execution_count": 93,
   "metadata": {},
   "outputs": [
    {
     "data": {
      "text/plain": [
       "np.int64(405060)"
      ]
     },
     "execution_count": 93,
     "metadata": {},
     "output_type": "execute_result"
    }
   ],
   "source": [
    "total_gender_count=character_metadata['Actor_Gender'].count()\n",
    "total_gender_count"
   ]
  },
  {
   "cell_type": "code",
   "execution_count": 94,
   "metadata": {},
   "outputs": [
    {
     "data": {
      "image/png": "[encoded data removed]",
      "text/plain": [
       "<Figure size 576x288 with 1 Axes>"
      ]
     },
     "metadata": {
      "needs_background": "light"
     },
     "output_type": "display_data"
    }
   ],
   "source": [
    "plt.figure(figsize=(8, 4))\n",
    "ax = gender_count.plot(kind=\"bar\", color=\"skyblue\")\n",
    "ax.set_title(\"Histogram of Value Counts in character_metadata[Actor_Gender]\")\n",
    "ax.set_xlabel('Result', fontdict={'fontsize': 14, 'fontweight': 'bold'})\n",
    "ax.set_ylabel('Frequency', fontdict={'fontsize': 14, 'fontweight': 'bold'})\n",
    "\n",
    "\n",
    "rects = ax.patches\n",
    "\n",
    "# Make proportion labels\n",
    "proportions=[m_count/total_gender_count, f_count/total_gender_count]\n",
    "\n",
    "for rect, label in zip(rects, proportions):\n",
    "    ax.text(\n",
    "        rect.get_x() + rect.get_width() / 2, rect.get_height()/2, f\"{label:.2%}\", \n",
    "        ha=\"center\", va=\"bottom\", fontsize=12, fontweight=\"bold\", color=\"blue\"\n",
    "    )\n",
    "\n",
    "plt.show()"
   ]
  }
 ],
 "metadata": {
  "kernelspec": {
   "display_name": "ADA_env",
   "language": "python",
   "name": "python3"
  },
  "language_info": {
   "codemirror_mode": {
    "name": "ipython",
    "version": 3
   },
   "file_extension": ".py",
   "mimetype": "text/x-python",
   "name": "python",
   "nbconvert_exporter": "python",
   "pygments_lexer": "ipython3",
   "version": "3.13.0"
  }
 },
 "nbformat": 4,
 "nbformat_minor": 2
}

{
 "cells": [
  {
   "cell_type": "code",
   "execution_count": 85,
   "metadata": {},
   "outputs": [],
   "source": [
    "import numpy as np\n",
    "import pandas as pd\n",
    "import matplotlib.pyplot as plt"
   ]
  },
  {
   "cell_type": "markdown",
   "metadata": {},
   "source": [
    "# <h1 style=\"text-align:center; color: #4164F0;\">AXE 3 : Gender and Ethnic Representation</h1>\n",
    "\n",
    "This part of the project aims to shed light on potential gender disparities in the movie industy. Comparing America with Europe "
   ]
  },
  {
   "cell_type": "markdown",
   "metadata": {},
   "source": [
    "### Loading and Preparing the Movie Actor Gender Data and Movie Actor Ethnicity Data"
   ]
  },
  {
   "cell_type": "code",
   "execution_count": 86,
   "metadata": {},
   "outputs": [],
   "source": [
    "MOVIE_METADATA_PATH= '../MovieSummaries/movie.metadata.tsv'\n",
    "CHARACTER_METADATA_PATH= '../MovieSummaries/character.metadata.tsv'\n",
    "MERGED_MOVIE_METADATA_PATH='data/Utils/merged_movie_metadata.csv'\n",
    "\n",
    "# Load data\n",
    "movie_metadata = pd.read_csv(MOVIE_METADATA_PATH, sep='\\t', header=None, names=['Wikipedia_ID', 'Freebase_ID', 'Movie_Name', 'Release_Date', 'Box_Office_Revenue', 'Runtime', 'Languages', 'Countries', 'Genres'])\n",
    "\n",
    "character_metadata = pd.read_csv(CHARACTER_METADATA_PATH, sep='\\t', header=None, names=['Wikipedia_ID', 'Freebase_ID', 'Release_Date', 'Character_Name', 'Actor_Birth_Date', 'Actor_Gender', 'Actor_Height', 'Actor_Ethnicity', 'Actor_Name', 'Actor_Age', 'Character_Actor_Freebase_ID', 'Character_Freebase_ID', 'Actor_Freebase_ID'])\n",
    "\n",
    "full_movie_metadata = pd.read_csv(MERGED_MOVIE_METADATA_PATH)\n"
   ]
  },
  {
   "cell_type": "code",
   "execution_count": 87,
   "metadata": {},
   "outputs": [
    {
     "name": "stdout",
     "output_type": "stream",
     "text": [
      "=====MOVIE METADATA=====\n"
     ]
    },
    {
     "data": {
      "text/plain": [
       "(81741, 9)"
      ]
     },
     "metadata": {},
     "output_type": "display_data"
    },
    {
     "data": {
      "text/html": [
       "<div>\n",
       "<style scoped>\n",
       "    .dataframe tbody tr th:only-of-type {\n",
       "        vertical-align: middle;\n",
       "    }\n",
       "\n",
       "    .dataframe tbody tr th {\n",
       "        vertical-align: top;\n",
       "    }\n",
       "\n",
       "    .dataframe thead th {\n",
       "        text-align: right;\n",
       "    }\n",
       "</style>\n",
       "<table border=\"1\" class=\"dataframe\">\n",
       "  <thead>\n",
       "    <tr style=\"text-align: right;\">\n",
       "      <th></th>\n",
       "      <th>Wikipedia_ID</th>\n",
       "      <th>Freebase_ID</th>\n",
       "      <th>Movie_Name</th>\n",
       "      <th>Release_Date</th>\n",
       "      <th>Box_Office_Revenue</th>\n",
       "      <th>Runtime</th>\n",
       "      <th>Languages</th>\n",
       "      <th>Countries</th>\n",
       "      <th>Genres</th>\n",
       "    </tr>\n",
       "  </thead>\n",
       "  <tbody>\n",
       "    <tr>\n",
       "      <th>0</th>\n",
       "      <td>975900</td>\n",
       "      <td>/m/03vyhn</td>\n",
       "      <td>Ghosts of Mars</td>\n",
       "      <td>2001-08-24</td>\n",
       "      <td>14010832.0</td>\n",
       "      <td>98.0</td>\n",
       "      <td>{\"/m/02h40lc\": \"English Language\"}</td>\n",
       "      <td>{\"/m/09c7w0\": \"United States of America\"}</td>\n",
       "      <td>{\"/m/01jfsb\": \"Thriller\", \"/m/06n90\": \"Science...</td>\n",
       "    </tr>\n",
       "    <tr>\n",
       "      <th>1</th>\n",
       "      <td>3196793</td>\n",
       "      <td>/m/08yl5d</td>\n",
       "      <td>Getting Away with Murder: The JonBenét Ramsey ...</td>\n",
       "      <td>2000-02-16</td>\n",
       "      <td>NaN</td>\n",
       "      <td>95.0</td>\n",
       "      <td>{\"/m/02h40lc\": \"English Language\"}</td>\n",
       "      <td>{\"/m/09c7w0\": \"United States of America\"}</td>\n",
       "      <td>{\"/m/02n4kr\": \"Mystery\", \"/m/03bxz7\": \"Biograp...</td>\n",
       "    </tr>\n",
       "  </tbody>\n",
       "</table>\n",
       "</div>"
      ],
      "text/plain": [
       "   Wikipedia_ID Freebase_ID  \\\n",
       "0        975900   /m/03vyhn   \n",
       "1       3196793   /m/08yl5d   \n",
       "\n",
       "                                          Movie_Name Release_Date  \\\n",
       "0                                     Ghosts of Mars   2001-08-24   \n",
       "1  Getting Away with Murder: The JonBenét Ramsey ...   2000-02-16   \n",
       "\n",
       "   Box_Office_Revenue  Runtime                           Languages  \\\n",
       "0          14010832.0     98.0  {\"/m/02h40lc\": \"English Language\"}   \n",
       "1                 NaN     95.0  {\"/m/02h40lc\": \"English Language\"}   \n",
       "\n",
       "                                   Countries  \\\n",
       "0  {\"/m/09c7w0\": \"United States of America\"}   \n",
       "1  {\"/m/09c7w0\": \"United States of America\"}   \n",
       "\n",
       "                                              Genres  \n",
       "0  {\"/m/01jfsb\": \"Thriller\", \"/m/06n90\": \"Science...  \n",
       "1  {\"/m/02n4kr\": \"Mystery\", \"/m/03bxz7\": \"Biograp...  "
      ]
     },
     "metadata": {},
     "output_type": "display_data"
    },
    {
     "name": "stdout",
     "output_type": "stream",
     "text": [
      "=====CHAR. METADATA=====\n"
     ]
    },
    {
     "data": {
      "text/plain": [
       "(450669, 13)"
      ]
     },
     "metadata": {},
     "output_type": "display_data"
    },
    {
     "data": {
      "text/html": [
       "<div>\n",
       "<style scoped>\n",
       "    .dataframe tbody tr th:only-of-type {\n",
       "        vertical-align: middle;\n",
       "    }\n",
       "\n",
       "    .dataframe tbody tr th {\n",
       "        vertical-align: top;\n",
       "    }\n",
       "\n",
       "    .dataframe thead th {\n",
       "        text-align: right;\n",
       "    }\n",
       "</style>\n",
       "<table border=\"1\" class=\"dataframe\">\n",
       "  <thead>\n",
       "    <tr style=\"text-align: right;\">\n",
       "      <th></th>\n",
       "      <th>Wikipedia_ID</th>\n",
       "      <th>Freebase_ID</th>\n",
       "      <th>Release_Date</th>\n",
       "      <th>Character_Name</th>\n",
       "      <th>Actor_Birth_Date</th>\n",
       "      <th>Actor_Gender</th>\n",
       "      <th>Actor_Height</th>\n",
       "      <th>Actor_Ethnicity</th>\n",
       "      <th>Actor_Name</th>\n",
       "      <th>Actor_Age</th>\n",
       "      <th>Character_Actor_Freebase_ID</th>\n",
       "      <th>Character_Freebase_ID</th>\n",
       "      <th>Actor_Freebase_ID</th>\n",
       "    </tr>\n",
       "  </thead>\n",
       "  <tbody>\n",
       "    <tr>\n",
       "      <th>0</th>\n",
       "      <td>975900</td>\n",
       "      <td>/m/03vyhn</td>\n",
       "      <td>2001-08-24</td>\n",
       "      <td>Akooshay</td>\n",
       "      <td>1958-08-26</td>\n",
       "      <td>F</td>\n",
       "      <td>1.62</td>\n",
       "      <td>NaN</td>\n",
       "      <td>Wanda De Jesus</td>\n",
       "      <td>42.0</td>\n",
       "      <td>/m/0bgchxw</td>\n",
       "      <td>/m/0bgcj3x</td>\n",
       "      <td>/m/03wcfv7</td>\n",
       "    </tr>\n",
       "    <tr>\n",
       "      <th>1</th>\n",
       "      <td>975900</td>\n",
       "      <td>/m/03vyhn</td>\n",
       "      <td>2001-08-24</td>\n",
       "      <td>Lieutenant Melanie Ballard</td>\n",
       "      <td>1974-08-15</td>\n",
       "      <td>F</td>\n",
       "      <td>1.78</td>\n",
       "      <td>/m/044038p</td>\n",
       "      <td>Natasha Henstridge</td>\n",
       "      <td>27.0</td>\n",
       "      <td>/m/0jys3m</td>\n",
       "      <td>/m/0bgchn4</td>\n",
       "      <td>/m/0346l4</td>\n",
       "    </tr>\n",
       "  </tbody>\n",
       "</table>\n",
       "</div>"
      ],
      "text/plain": [
       "   Wikipedia_ID Freebase_ID Release_Date              Character_Name  \\\n",
       "0        975900   /m/03vyhn   2001-08-24                    Akooshay   \n",
       "1        975900   /m/03vyhn   2001-08-24  Lieutenant Melanie Ballard   \n",
       "\n",
       "  Actor_Birth_Date Actor_Gender  Actor_Height Actor_Ethnicity  \\\n",
       "0       1958-08-26            F          1.62             NaN   \n",
       "1       1974-08-15            F          1.78      /m/044038p   \n",
       "\n",
       "           Actor_Name  Actor_Age Character_Actor_Freebase_ID  \\\n",
       "0      Wanda De Jesus       42.0                  /m/0bgchxw   \n",
       "1  Natasha Henstridge       27.0                   /m/0jys3m   \n",
       "\n",
       "  Character_Freebase_ID Actor_Freebase_ID  \n",
       "0            /m/0bgcj3x        /m/03wcfv7  \n",
       "1            /m/0bgchn4         /m/0346l4  "
      ]
     },
     "metadata": {},
     "output_type": "display_data"
    },
    {
     "name": "stdout",
     "output_type": "stream",
     "text": [
      "=====MERGED MOVIE METADATA=====\n"
     ]
    },
    {
     "data": {
      "text/plain": [
       "(13786, 33)"
      ]
     },
     "metadata": {},
     "output_type": "display_data"
    },
    {
     "data": {
      "text/html": [
       "<div>\n",
       "<style scoped>\n",
       "    .dataframe tbody tr th:only-of-type {\n",
       "        vertical-align: middle;\n",
       "    }\n",
       "\n",
       "    .dataframe tbody tr th {\n",
       "        vertical-align: top;\n",
       "    }\n",
       "\n",
       "    .dataframe thead th {\n",
       "        text-align: right;\n",
       "    }\n",
       "</style>\n",
       "<table border=\"1\" class=\"dataframe\">\n",
       "  <thead>\n",
       "    <tr style=\"text-align: right;\">\n",
       "      <th></th>\n",
       "      <th>Wikipedia_ID</th>\n",
       "      <th>Movie_Name</th>\n",
       "      <th>Release_Date</th>\n",
       "      <th>Box_Office_Revenue</th>\n",
       "      <th>Runtime</th>\n",
       "      <th>Languages</th>\n",
       "      <th>Countries</th>\n",
       "      <th>Genres</th>\n",
       "      <th>Continents</th>\n",
       "      <th>Year</th>\n",
       "      <th>...</th>\n",
       "      <th>Production</th>\n",
       "      <th>Website</th>\n",
       "      <th>Response</th>\n",
       "      <th>totalSeasons</th>\n",
       "      <th>Oscar</th>\n",
       "      <th>Nomination_Awards</th>\n",
       "      <th>Win_Awards</th>\n",
       "      <th>Internet_Movie_Database_Rating</th>\n",
       "      <th>Rotten_Tomatoes_Rating</th>\n",
       "      <th>Metacritic_Rating</th>\n",
       "    </tr>\n",
       "  </thead>\n",
       "  <tbody>\n",
       "    <tr>\n",
       "      <th>0</th>\n",
       "      <td>13696889</td>\n",
       "      <td>The Gangsters</td>\n",
       "      <td>1913-05-29</td>\n",
       "      <td>NaN</td>\n",
       "      <td>35.0</td>\n",
       "      <td>['Silent film', 'English Language']</td>\n",
       "      <td>['United States of America']</td>\n",
       "      <td>['Short Film', 'Silent film', 'Indie', 'Black-...</td>\n",
       "      <td>['America']</td>\n",
       "      <td>1957</td>\n",
       "      <td>...</td>\n",
       "      <td>NaN</td>\n",
       "      <td>NaN</td>\n",
       "      <td>True</td>\n",
       "      <td>NaN</td>\n",
       "      <td>0</td>\n",
       "      <td>0</td>\n",
       "      <td>0</td>\n",
       "      <td>5.9</td>\n",
       "      <td>NaN</td>\n",
       "      <td>NaN</td>\n",
       "    </tr>\n",
       "    <tr>\n",
       "      <th>1</th>\n",
       "      <td>10408933</td>\n",
       "      <td>Alexander's Ragtime Band</td>\n",
       "      <td>1938-08-16</td>\n",
       "      <td>3600000.0</td>\n",
       "      <td>106.0</td>\n",
       "      <td>['English Language']</td>\n",
       "      <td>['United States of America']</td>\n",
       "      <td>['Musical', 'Comedy', 'Black-and-white']</td>\n",
       "      <td>['America']</td>\n",
       "      <td>1938</td>\n",
       "      <td>...</td>\n",
       "      <td>NaN</td>\n",
       "      <td>NaN</td>\n",
       "      <td>True</td>\n",
       "      <td>NaN</td>\n",
       "      <td>1</td>\n",
       "      <td>6</td>\n",
       "      <td>1</td>\n",
       "      <td>6.8</td>\n",
       "      <td>8.3</td>\n",
       "      <td>NaN</td>\n",
       "    </tr>\n",
       "  </tbody>\n",
       "</table>\n",
       "<p>2 rows × 33 columns</p>\n",
       "</div>"
      ],
      "text/plain": [
       "   Wikipedia_ID                Movie_Name Release_Date  Box_Office_Revenue  \\\n",
       "0      13696889             The Gangsters   1913-05-29                 NaN   \n",
       "1      10408933  Alexander's Ragtime Band   1938-08-16           3600000.0   \n",
       "\n",
       "   Runtime                            Languages                     Countries  \\\n",
       "0     35.0  ['Silent film', 'English Language']  ['United States of America']   \n",
       "1    106.0                 ['English Language']  ['United States of America']   \n",
       "\n",
       "                                              Genres   Continents  Year  ...  \\\n",
       "0  ['Short Film', 'Silent film', 'Indie', 'Black-...  ['America']  1957  ...   \n",
       "1           ['Musical', 'Comedy', 'Black-and-white']  ['America']  1938  ...   \n",
       "\n",
       "  Production Website Response totalSeasons Oscar Nomination_Awards Win_Awards  \\\n",
       "0        NaN     NaN     True          NaN     0                 0          0   \n",
       "1        NaN     NaN     True          NaN     1                 6          1   \n",
       "\n",
       "  Internet_Movie_Database_Rating  Rotten_Tomatoes_Rating  Metacritic_Rating  \n",
       "0                            5.9                     NaN                NaN  \n",
       "1                            6.8                     8.3                NaN  \n",
       "\n",
       "[2 rows x 33 columns]"
      ]
     },
     "metadata": {},
     "output_type": "display_data"
    }
   ],
   "source": [
    "print(\"=====MOVIE METADATA=====\")\n",
    "display(movie_metadata.shape, movie_metadata.head(2))\n",
    "print(\"=====CHAR. METADATA=====\")\n",
    "display(character_metadata.shape,character_metadata.head(2))\n",
    "print(\"=====MERGED MOVIE METADATA=====\")\n",
    "display(full_movie_metadata.shape, full_movie_metadata.head(2))"
   ]
  },
  {
   "cell_type": "markdown",
   "metadata": {},
   "source": [
    "### Visualising Data"
   ]
  },
  {
   "cell_type": "markdown",
   "metadata": {},
   "source": [
    "#### 0. Functions"
   ]
  },
  {
   "cell_type": "code",
   "execution_count": 88,
   "metadata": {},
   "outputs": [],
   "source": [
    "def plot_frequencie_proportion(data, title, xlabel, color=\"skyblue\", figsize=(8, 6)):\n",
    "    \"\"\"\n",
    "    Plot a bar chart for distribution with proportion labels.\n",
    "\n",
    "    Parameters:\n",
    "    - data: pd.Series - A pandas Series\n",
    "    - title: str - Title of the plot.\n",
    "    - color: str - Color of the bars (default: \"skyblue\").\n",
    "    - figsize: tuple - Size of the plot (default: (8, 4)).\n",
    "    \"\"\"\n",
    "    # Calculate counts and proportions\n",
    "    total_count = data.sum()\n",
    "    proportions = (data / total_count).values  # Proportions as percentages\n",
    "\n",
    "    # Create the figure\n",
    "    plt.figure(figsize=figsize)\n",
    "    ax = data.plot(kind=\"bar\", color=color)\n",
    "    ax.set_title(title, fontsize=16, fontweight=\"bold\")\n",
    "    ax.set_xlabel(xlabel, fontsize=14, fontweight=\"bold\")\n",
    "    ax.set_ylabel(\"Frequency\", fontsize=14, fontweight=\"bold\")\n",
    "    ax.tick_params(axis='x', rotation=45)\n",
    "\n",
    "    # Add proportion labels\n",
    "    rects = ax.patches\n",
    "    for rect, label in zip(rects, proportions):\n",
    "        ax.text(\n",
    "            rect.get_x() + rect.get_width() / 2,  # X position\n",
    "            rect.get_height(),  # Y position (center of the bar)\n",
    "            f\"{label:.2%}\",  # Format as a percentage\n",
    "            ha=\"center\",  # Horizontally center-aligned\n",
    "            va=\"bottom\",  # Vertically center-aligned\n",
    "            fontsize=10  # Font size\n",
    "        )\n",
    "\n",
    "    plt.tight_layout()\n",
    "    plt.show()\n",
    "\n",
    "#Bar Plot of Frequency of Ethnicities\n",
    "def plot_frequencie(data, title, xlabel, color=\"skyblue\", figsize=(8, 6)):\n",
    "    \"\"\"\n",
    "    Plot a bar chart for distribution\n",
    "\n",
    "    Parameters:\n",
    "    - data: pd.Series - A pandas Series\n",
    "    - title: str - Title of the plot.\n",
    "    - color: str - Color of the bars (default: \"skyblue\").\n",
    "    - figsize: tuple - Size of the plot (default: (8, 4)).\n",
    "    \"\"\"\n",
    "    plt.figure(figsize=figsize)\n",
    "    bars = plt.bar(data.index, data.values, color=color)\n",
    "    \n",
    "    # Add value labels to each bar\n",
    "    for bar in bars:\n",
    "        height = bar.get_height()\n",
    "        plt.text(\n",
    "            bar.get_x() + bar.get_width() / 2,  # X position\n",
    "            height,  # Y position (slightly above the bar)\n",
    "            f'{height}',  # Text label (rounded to 1 decimal place)\n",
    "            ha='center',  # Center align text\n",
    "            va='bottom',  # Align text at the bottom\n",
    "            fontsize=10  # Font size\n",
    "        )\n",
    "    plt.bar(data.index, data.values, color=color)\n",
    "    plt.title(title, fontsize=16, fontweight='bold')\n",
    "    plt.xlabel(xlabel, fontsize=14, fontweight='bold')\n",
    "    plt.ylabel('Frequency', fontsize=14, fontweight='bold')\n",
    "    plt.xticks(rotation=45, ha='right')\n",
    "    plt.tight_layout()\n",
    "    plt.show()\n",
    "\n",
    "#Bar Plot of Percentage of Ethnicities\n",
    "def plot_proportion(data, title, xlabel, color=\"skyblue\", figsize=(8, 6)):\n",
    "    proportion= (data / data.sum())*100\n",
    "    plt.figure(figsize=figsize)\n",
    "    bars = plt.bar(data.index, proportion.values, color=color)\n",
    "    \n",
    "    # Add value labels to each bar\n",
    "    for bar in bars:\n",
    "        height = bar.get_height()\n",
    "        plt.text(\n",
    "            bar.get_x() + bar.get_width() / 2,  # X position\n",
    "            height,  # Y position (slightly above the bar)\n",
    "            f'{height:.2f}%',  # Text label (rounded to 1 decimal place)\n",
    "            ha='center',  # Center align text\n",
    "            va='bottom',  # Align text at the bottom\n",
    "            fontsize=10  # Font size\n",
    "        )\n",
    "\n",
    "    # Add title and labels\n",
    "    plt.title(title, fontsize=16, fontweight='bold')\n",
    "    plt.xlabel(xlabel, fontsize=14, fontweight='bold')\n",
    "    plt.ylabel('Percentage (%)', fontsize=14, fontweight='bold')\n",
    "    plt.xticks(rotation=45, ha='right')\n",
    "    plt.tight_layout()\n",
    "    plt.show()\n",
    "\n",
    "def plot_gender_distribution_regions(data, title, bar_width=0.25, figsize=(10, 6)):\n",
    "    \"\"\"\n",
    "    Plots gender distribution across America, Europe, and Both regions with percentages.\n",
    "\n",
    "    Parameters:\n",
    "    - data: pd.DataFrame - DataFrame containing the data.\n",
    "    - title: str - Title of the plot.\n",
    "    - bar_width: float - Width of the bars (default: 0.25).\n",
    "    - figsize: tuple - Size of the plot (default: (10, 6)).\n",
    "    \"\"\"\n",
    "    # Define fixed regions, their filtering logic, and colors\n",
    "    regions = {\n",
    "        \"America\": {\"filter\": lambda x: 'America' in x, \"color\": \"skyblue\"},\n",
    "        \"Europe\": {\"filter\": lambda x: 'Europe' in x, \"color\": \"lightgreen\"},\n",
    "        \"Both\": {\"filter\": lambda x: 'Both' in x, \"color\": \"salmon\"}\n",
    "    }\n",
    "\n",
    "    # Dynamically infer categories from the data\n",
    "    all_categories = ['M', 'F']  # Explicitly define the order\n",
    "    x_positions = np.arange(len(all_categories))\n",
    "    positions = {region: x_positions + i * bar_width for i, region in enumerate(regions.keys())}\n",
    "\n",
    "    plt.figure(figsize=figsize)\n",
    "\n",
    "    # Process each region and plot\n",
    "    for region, config in regions.items():\n",
    "        # Filter the data for the region\n",
    "        region_data = data[data['Continents'].apply(config[\"filter\"])]\n",
    "        gender_counts = region_data['Actor_Gender'].value_counts()\n",
    "        total_count = region_data['Actor_Gender'].count()\n",
    "\n",
    "        # Calculate percentages for all categories\n",
    "        percentages = [(gender_counts.get(cat, 0) / total_count) * 100 for cat in all_categories]\n",
    "\n",
    "        # Plot bars for the region\n",
    "        plt.bar(positions[region], percentages, width=bar_width, label=region, color=config[\"color\"])\n",
    "\n",
    "        # Add percentage labels\n",
    "        for x, y, cat in zip(positions[region], percentages, all_categories):\n",
    "            plt.text(x, y, f\"{y:.1f}%\", ha=\"center\", va=\"bottom\", fontsize=10)\n",
    "\n",
    "    # Customize the plot\n",
    "    plt.title(title, fontsize=16, fontweight=\"bold\")\n",
    "    plt.xlabel(\"Gender\", fontsize=14)\n",
    "    plt.ylabel(\"Percentage (%)\", fontsize=14)\n",
    "    plt.xticks(x_positions + (len(regions) - 1) * bar_width / 2, all_categories)  # Center group labels\n",
    "    plt.legend(title=\"Region\")\n",
    "    plt.tight_layout()\n",
    "\n",
    "    plt.show()"
   ]
  },
  {
   "cell_type": "markdown",
   "metadata": {},
   "source": [
    "#### 1. Genders"
   ]
  },
  {
   "cell_type": "code",
   "execution_count": 89,
   "metadata": {},
   "outputs": [
    {
     "data": {
      "text/html": [
       "<style type=\"text/css\">\n",
       "</style>\n",
       "<table id=\"T_fc106\" style=\"display:inline\">\n",
       "  <caption><b>Actor Gender</b></caption>\n",
       "  <thead>\n",
       "    <tr>\n",
       "      <th class=\"blank level0\" >&nbsp;</th>\n",
       "      <th id=\"T_fc106_level0_col0\" class=\"col_heading level0 col0\" >count</th>\n",
       "    </tr>\n",
       "    <tr>\n",
       "      <th class=\"index_name level0\" >Actor_Gender</th>\n",
       "      <th class=\"blank col0\" >&nbsp;</th>\n",
       "    </tr>\n",
       "  </thead>\n",
       "  <tbody>\n",
       "    <tr>\n",
       "      <th id=\"T_fc106_level0_row0\" class=\"row_heading level0 row0\" >M</th>\n",
       "      <td id=\"T_fc106_row0_col0\" class=\"data row0 col0\" >270257</td>\n",
       "    </tr>\n",
       "    <tr>\n",
       "      <th id=\"T_fc106_level0_row1\" class=\"row_heading level0 row1\" >F</th>\n",
       "      <td id=\"T_fc106_row1_col0\" class=\"data row1 col0\" >134803</td>\n",
       "    </tr>\n",
       "    <tr>\n",
       "      <th id=\"T_fc106_level0_row2\" class=\"row_heading level0 row2\" >nan</th>\n",
       "      <td id=\"T_fc106_row2_col0\" class=\"data row2 col0\" >45609</td>\n",
       "    </tr>\n",
       "  </tbody>\n",
       "</table>\n"
      ],
      "text/plain": [
       "<pandas.io.formats.style.Styler at 0x133efc410>"
      ]
     },
     "metadata": {},
     "output_type": "display_data"
    }
   ],
   "source": [
    "gender_count=character_metadata['Actor_Gender'].value_counts(dropna = False)\n",
    "display(gender_count.head(4).to_frame().style.set_table_attributes('style=\"display:inline\"').set_caption('<b>Actor Gender</b>'))"
   ]
  },
  {
   "cell_type": "code",
   "execution_count": 90,
   "metadata": {},
   "outputs": [
    {
     "data": {
      "image/png": "[encoded data removed]",
      "text/plain": [
       "<Figure size 576x432 with 1 Axes>"
      ]
     },
     "metadata": {
      "needs_background": "light"
     },
     "output_type": "display_data"
    }
   ],
   "source": [
    "# Calculate gender counts\n",
    "gender_count = character_metadata['Actor_Gender'].value_counts()\n",
    "\n",
    "# Plot the gender distribution\n",
    "plot_frequencie_proportion(\n",
    "    data=gender_count,\n",
    "    title=\"Bar plot of Value Counts in character_metadata[Actor_Gender]\",\n",
    "    xlabel=\"Gender\"\n",
    ")\n"
   ]
  },
  {
   "cell_type": "markdown",
   "metadata": {},
   "source": [
    "##### Merging Data\n",
    "Merge Actor_Gender and Actor_Freebase_ID on Wikipedia_ID of the movies_metadata in order to creat a DataFrame consisting of all movies associated with gendered actors"
   ]
  },
  {
   "cell_type": "code",
   "execution_count": 91,
   "metadata": {},
   "outputs": [],
   "source": [
    "full_movie_metadata_actor_gender = full_movie_metadata.merge(\n",
    "    character_metadata[['Wikipedia_ID', 'Actor_Gender', 'Actor_Freebase_ID']],\n",
    "    on='Wikipedia_ID',\n",
    "    how='left'\n",
    ")\n"
   ]
  },
  {
   "cell_type": "code",
   "execution_count": 92,
   "metadata": {},
   "outputs": [
    {
     "data": {
      "text/html": [
       "<style type=\"text/css\">\n",
       "</style>\n",
       "<table id=\"T_966ac\" style=\"display:inline\">\n",
       "  <caption><b>Actor Gender (America)</b></caption>\n",
       "  <thead>\n",
       "    <tr>\n",
       "      <th class=\"blank level0\" >&nbsp;</th>\n",
       "      <th id=\"T_966ac_level0_col0\" class=\"col_heading level0 col0\" >count</th>\n",
       "    </tr>\n",
       "    <tr>\n",
       "      <th class=\"index_name level0\" >Actor_Gender</th>\n",
       "      <th class=\"blank col0\" >&nbsp;</th>\n",
       "    </tr>\n",
       "  </thead>\n",
       "  <tbody>\n",
       "    <tr>\n",
       "      <th id=\"T_966ac_level0_row0\" class=\"row_heading level0 row0\" >M</th>\n",
       "      <td id=\"T_966ac_row0_col0\" class=\"data row0 col0\" >52302</td>\n",
       "    </tr>\n",
       "    <tr>\n",
       "      <th id=\"T_966ac_level0_row1\" class=\"row_heading level0 row1\" >F</th>\n",
       "      <td id=\"T_966ac_row1_col0\" class=\"data row1 col0\" >27092</td>\n",
       "    </tr>\n",
       "    <tr>\n",
       "      <th id=\"T_966ac_level0_row2\" class=\"row_heading level0 row2\" >nan</th>\n",
       "      <td id=\"T_966ac_row2_col0\" class=\"data row2 col0\" >6978</td>\n",
       "    </tr>\n",
       "  </tbody>\n",
       "</table>\n"
      ],
      "text/plain": [
       "<pandas.io.formats.style.Styler at 0x133efc2d0>"
      ]
     },
     "metadata": {},
     "output_type": "display_data"
    },
    {
     "data": {
      "text/html": [
       "<style type=\"text/css\">\n",
       "</style>\n",
       "<table id=\"T_20cf6\" style=\"display:inline\">\n",
       "  <caption><b>Actor Gender (Europe)</b></caption>\n",
       "  <thead>\n",
       "    <tr>\n",
       "      <th class=\"blank level0\" >&nbsp;</th>\n",
       "      <th id=\"T_20cf6_level0_col0\" class=\"col_heading level0 col0\" >count</th>\n",
       "    </tr>\n",
       "    <tr>\n",
       "      <th class=\"index_name level0\" >Actor_Gender</th>\n",
       "      <th class=\"blank col0\" >&nbsp;</th>\n",
       "    </tr>\n",
       "  </thead>\n",
       "  <tbody>\n",
       "    <tr>\n",
       "      <th id=\"T_20cf6_level0_row0\" class=\"row_heading level0 row0\" >M</th>\n",
       "      <td id=\"T_20cf6_row0_col0\" class=\"data row0 col0\" >11525</td>\n",
       "    </tr>\n",
       "    <tr>\n",
       "      <th id=\"T_20cf6_level0_row1\" class=\"row_heading level0 row1\" >F</th>\n",
       "      <td id=\"T_20cf6_row1_col0\" class=\"data row1 col0\" >6013</td>\n",
       "    </tr>\n",
       "    <tr>\n",
       "      <th id=\"T_20cf6_level0_row2\" class=\"row_heading level0 row2\" >nan</th>\n",
       "      <td id=\"T_20cf6_row2_col0\" class=\"data row2 col0\" >3336</td>\n",
       "    </tr>\n",
       "  </tbody>\n",
       "</table>\n"
      ],
      "text/plain": [
       "<pandas.io.formats.style.Styler at 0x133efc2d0>"
      ]
     },
     "metadata": {},
     "output_type": "display_data"
    },
    {
     "data": {
      "text/html": [
       "<style type=\"text/css\">\n",
       "</style>\n",
       "<table id=\"T_d4c46\" style=\"display:inline\">\n",
       "  <caption><b>Actor Gender (Both)</b></caption>\n",
       "  <thead>\n",
       "    <tr>\n",
       "      <th class=\"blank level0\" >&nbsp;</th>\n",
       "      <th id=\"T_d4c46_level0_col0\" class=\"col_heading level0 col0\" >count</th>\n",
       "    </tr>\n",
       "    <tr>\n",
       "      <th class=\"index_name level0\" >Actor_Gender</th>\n",
       "      <th class=\"blank col0\" >&nbsp;</th>\n",
       "    </tr>\n",
       "  </thead>\n",
       "  <tbody>\n",
       "    <tr>\n",
       "      <th id=\"T_d4c46_level0_row0\" class=\"row_heading level0 row0\" >M</th>\n",
       "      <td id=\"T_d4c46_row0_col0\" class=\"data row0 col0\" >6004</td>\n",
       "    </tr>\n",
       "    <tr>\n",
       "      <th id=\"T_d4c46_level0_row1\" class=\"row_heading level0 row1\" >F</th>\n",
       "      <td id=\"T_d4c46_row1_col0\" class=\"data row1 col0\" >3374</td>\n",
       "    </tr>\n",
       "    <tr>\n",
       "      <th id=\"T_d4c46_level0_row2\" class=\"row_heading level0 row2\" >nan</th>\n",
       "      <td id=\"T_d4c46_row2_col0\" class=\"data row2 col0\" >709</td>\n",
       "    </tr>\n",
       "  </tbody>\n",
       "</table>\n"
      ],
      "text/plain": [
       "<pandas.io.formats.style.Styler at 0x133efc2d0>"
      ]
     },
     "metadata": {},
     "output_type": "display_data"
    }
   ],
   "source": [
    "full_movie_metadata_actor_gender_american=full_movie_metadata_actor_gender[full_movie_metadata_actor_gender['Continents'].apply(lambda x: 'America'in x)]\n",
    "gender_count_a=full_movie_metadata_actor_gender_american['Actor_Gender'].value_counts(dropna = False)\n",
    "display(gender_count_a.head(30).to_frame().style.set_table_attributes('style=\"display:inline\"').set_caption('<b>Actor Gender (America)</b>'))\n",
    "\n",
    "full_movie_metadata_actor_gender_europe=full_movie_metadata_actor_gender[full_movie_metadata_actor_gender['Continents'].apply(lambda x: 'Europe'in x)]\n",
    "gender_count_e=full_movie_metadata_actor_gender_europe['Actor_Gender'].value_counts(dropna = False)\n",
    "display(gender_count_e.head(30).to_frame().style.set_table_attributes('style=\"display:inline\"').set_caption('<b>Actor Gender (Europe)</b>'))\n",
    "\n",
    "full_movie_metadata_actor_gender_both=full_movie_metadata_actor_gender[full_movie_metadata_actor_gender['Continents'].apply(lambda x: 'Both'in x)]\n",
    "gender_count_b=full_movie_metadata_actor_gender_both['Actor_Gender'].value_counts(dropna = False)\n",
    "display(gender_count_b.head(30).to_frame().style.set_table_attributes('style=\"display:inline\"').set_caption('<b>Actor Gender (Both)</b>'))"
   ]
  },
  {
   "cell_type": "code",
   "execution_count": 93,
   "metadata": {},
   "outputs": [
    {
     "data": {
      "image/png": "[encoded data removed]",
      "text/plain": [
       "<Figure size 720x432 with 1 Axes>"
      ]
     },
     "metadata": {
      "needs_background": "light"
     },
     "output_type": "display_data"
    }
   ],
   "source": [
    "plot_gender_distribution_regions(\n",
    "    data=full_movie_metadata_actor_gender,\n",
    "    title=\"Gender Distribution Across American, European, and Co-produced Movies\"\n",
    ")"
   ]
  },
  {
   "cell_type": "markdown",
   "metadata": {},
   "source": [
    "We see very similar proportions for gender repartition in European and American movies. <br>\n",
    "Further reaserch will focus on:\n",
    "- The evolution of this proportion at different time periods in the two movie industries.\n",
    "- The types of comedies where a significantly different proportion is observed on the two contients.\n",
    "- Look for correlations in movie recognition (boxoffice/rankings/ratings/awards) and gender repatition."
   ]
  },
  {
   "cell_type": "markdown",
   "metadata": {},
   "source": [
    "#### 2. Ethnicity"
   ]
  },
  {
   "cell_type": "code",
   "execution_count": 94,
   "metadata": {},
   "outputs": [
    {
     "data": {
      "text/html": [
       "<style type=\"text/css\">\n",
       "</style>\n",
       "<table id=\"T_ce63a\" style=\"display:inline\">\n",
       "  <caption><b>Actor Ethnicities</b></caption>\n",
       "  <thead>\n",
       "    <tr>\n",
       "      <th class=\"blank level0\" >&nbsp;</th>\n",
       "      <th id=\"T_ce63a_level0_col0\" class=\"col_heading level0 col0\" >count</th>\n",
       "    </tr>\n",
       "    <tr>\n",
       "      <th class=\"index_name level0\" >Actor_Ethnicity</th>\n",
       "      <th class=\"blank col0\" >&nbsp;</th>\n",
       "    </tr>\n",
       "  </thead>\n",
       "  <tbody>\n",
       "    <tr>\n",
       "      <th id=\"T_ce63a_level0_row0\" class=\"row_heading level0 row0\" >nan</th>\n",
       "      <td id=\"T_ce63a_row0_col0\" class=\"data row0 col0\" >344611</td>\n",
       "    </tr>\n",
       "    <tr>\n",
       "      <th id=\"T_ce63a_level0_row1\" class=\"row_heading level0 row1\" >/m/0dryh9k</th>\n",
       "      <td id=\"T_ce63a_row1_col0\" class=\"data row1 col0\" >16351</td>\n",
       "    </tr>\n",
       "    <tr>\n",
       "      <th id=\"T_ce63a_level0_row2\" class=\"row_heading level0 row2\" >/m/0x67</th>\n",
       "      <td id=\"T_ce63a_row2_col0\" class=\"data row2 col0\" >10159</td>\n",
       "    </tr>\n",
       "    <tr>\n",
       "      <th id=\"T_ce63a_level0_row3\" class=\"row_heading level0 row3\" >/m/041rx</th>\n",
       "      <td id=\"T_ce63a_row3_col0\" class=\"data row3 col0\" >10121</td>\n",
       "    </tr>\n",
       "    <tr>\n",
       "      <th id=\"T_ce63a_level0_row4\" class=\"row_heading level0 row4\" >/m/02w7gg</th>\n",
       "      <td id=\"T_ce63a_row4_col0\" class=\"data row4 col0\" >6165</td>\n",
       "    </tr>\n",
       "    <tr>\n",
       "      <th id=\"T_ce63a_level0_row5\" class=\"row_heading level0 row5\" >/m/033tf_</th>\n",
       "      <td id=\"T_ce63a_row5_col0\" class=\"data row5 col0\" >3857</td>\n",
       "    </tr>\n",
       "    <tr>\n",
       "      <th id=\"T_ce63a_level0_row6\" class=\"row_heading level0 row6\" >/m/0xnvg</th>\n",
       "      <td id=\"T_ce63a_row6_col0\" class=\"data row6 col0\" >2956</td>\n",
       "    </tr>\n",
       "    <tr>\n",
       "      <th id=\"T_ce63a_level0_row7\" class=\"row_heading level0 row7\" >/m/02ctzb</th>\n",
       "      <td id=\"T_ce63a_row7_col0\" class=\"data row7 col0\" >2307</td>\n",
       "    </tr>\n",
       "    <tr>\n",
       "      <th id=\"T_ce63a_level0_row8\" class=\"row_heading level0 row8\" >/m/07hwkr</th>\n",
       "      <td id=\"T_ce63a_row8_col0\" class=\"data row8 col0\" >2250</td>\n",
       "    </tr>\n",
       "    <tr>\n",
       "      <th id=\"T_ce63a_level0_row9\" class=\"row_heading level0 row9\" >/m/07bch9</th>\n",
       "      <td id=\"T_ce63a_row9_col0\" class=\"data row9 col0\" >2223</td>\n",
       "    </tr>\n",
       "  </tbody>\n",
       "</table>\n"
      ],
      "text/plain": [
       "<pandas.io.formats.style.Styler at 0x133efc2d0>"
      ]
     },
     "metadata": {},
     "output_type": "display_data"
    }
   ],
   "source": [
    "display(character_metadata['Actor_Ethnicity'].value_counts(dropna = False).head(10).to_frame().style.set_table_attributes('style=\"display:inline\"').set_caption('<b>Actor Ethnicities</b>'))"
   ]
  },
  {
   "cell_type": "markdown",
   "metadata": {},
   "source": [
    "#### This huge proportion of NaN is an issue, the first future step for this part would be to focus on treating these NaN. Since actors appear multiple times in character_metadata, Actor_Ethnicity might be taken from other occurence of this actor in the data.\n",
    "For now we just drop the NaN values"
   ]
  },
  {
   "cell_type": "code",
   "execution_count": 95,
   "metadata": {},
   "outputs": [
    {
     "data": {
      "image/png": "[encoded data removed]",
      "text/plain": [
       "<Figure size 432x288 with 1 Axes>"
      ]
     },
     "metadata": {
      "needs_background": "light"
     },
     "output_type": "display_data"
    }
   ],
   "source": [
    "ethnicity_count=character_metadata['Actor_Ethnicity'].value_counts().head(10)\n",
    "# Plot the histogram\n",
    "ethnicity_count.plot(kind='bar', color='skyblue')\n",
    "plt.title('Histogram of Value Counts in character_metadata[Actor_Ethnicity]')\n",
    "plt.xlabel('Result', fontdict={'fontsize': 14, 'fontweight': 'bold'})\n",
    "plt.ylabel('Frequency', fontdict={'fontsize': 14, 'fontweight': 'bold'})\n",
    "plt.xticks(rotation=45)\n",
    "plt.show()"
   ]
  },
  {
   "cell_type": "markdown",
   "metadata": {},
   "source": [
    "All ethnicities are named with a Freebase_ID, we need to map Ethnicities to corresponding Freebase_ID"
   ]
  },
  {
   "cell_type": "markdown",
   "metadata": {},
   "source": [
    "Load and treating the mappings of Freebase_ID to Ethnicity"
   ]
  },
  {
   "cell_type": "code",
   "execution_count": 96,
   "metadata": {},
   "outputs": [
    {
     "data": {
      "text/html": [
       "<div>\n",
       "<style scoped>\n",
       "    .dataframe tbody tr th:only-of-type {\n",
       "        vertical-align: middle;\n",
       "    }\n",
       "\n",
       "    .dataframe tbody tr th {\n",
       "        vertical-align: top;\n",
       "    }\n",
       "\n",
       "    .dataframe thead th {\n",
       "        text-align: right;\n",
       "    }\n",
       "</style>\n",
       "<table border=\"1\" class=\"dataframe\">\n",
       "  <thead>\n",
       "    <tr style=\"text-align: right;\">\n",
       "      <th></th>\n",
       "      <th>freebase_id</th>\n",
       "      <th>ethnicity</th>\n",
       "    </tr>\n",
       "  </thead>\n",
       "  <tbody>\n",
       "    <tr>\n",
       "      <th>0</th>\n",
       "      <td>/m/0x67</td>\n",
       "      <td>African Americans</td>\n",
       "    </tr>\n",
       "    <tr>\n",
       "      <th>1</th>\n",
       "      <td>/m/064b9n</td>\n",
       "      <td>Omaha Tribe of Nebraska</td>\n",
       "    </tr>\n",
       "    <tr>\n",
       "      <th>2</th>\n",
       "      <td>/m/041rx</td>\n",
       "      <td>Jewish people</td>\n",
       "    </tr>\n",
       "  </tbody>\n",
       "</table>\n",
       "</div>"
      ],
      "text/plain": [
       "  freebase_id                ethnicity\n",
       "0     /m/0x67        African Americans\n",
       "1   /m/064b9n  Omaha Tribe of Nebraska\n",
       "2    /m/041rx            Jewish people"
      ]
     },
     "execution_count": 96,
     "metadata": {},
     "output_type": "execute_result"
    }
   ],
   "source": [
    "ethnicity_map=pd.read_csv(\"data/ethnicity_mappings.csv\")\n",
    "# Add a leading slash to Freebase_ID in ethnicity_map\n",
    "ethnicity_map['freebase_id'] = ethnicity_map['freebase_id'].apply(lambda x: f'/{x}' if not x.startswith('/') else x)\n",
    "ethnicity_map.head(3)\n"
   ]
  },
  {
   "cell_type": "code",
   "execution_count": 97,
   "metadata": {},
   "outputs": [],
   "source": [
    "# Convert the ethnicity_map DataFrame into a dictionary for mapping\n",
    "ethnicity_dict = ethnicity_map.set_index('freebase_id')['ethnicity'].to_dict()\n",
    "\n",
    "# Map the Freebase IDs in character_metadata to their ethnicities\n",
    "character_metadata['Actor_Ethnicity'] = character_metadata['Actor_Ethnicity'].map(ethnicity_dict)\n"
   ]
  },
  {
   "cell_type": "code",
   "execution_count": 98,
   "metadata": {},
   "outputs": [
    {
     "data": {
      "image/png": "[encoded data removed]",
      "text/plain": [
       "<Figure size 576x432 with 1 Axes>"
      ]
     },
     "metadata": {
      "needs_background": "light"
     },
     "output_type": "display_data"
    }
   ],
   "source": [
    "ethnicity_count=character_metadata['Actor_Ethnicity'].value_counts().head(10)\n",
    "plot_proportion(ethnicity_count, \"Bar plot of Ethnicity Proportion in character_metadata[Actor_Ethnicity]\", \"Ethnicity\")"
   ]
  },
  {
   "cell_type": "markdown",
   "metadata": {},
   "source": [
    "##### Merging Data\n",
    "Merge Actor_Ethnicity and Actor_Freebase_ID on Wikipedia_ID of the movies_metadata in order to create a DataFrame consisting of all movies associated with informtaion about ethnicitiy of actors."
   ]
  },
  {
   "cell_type": "code",
   "execution_count": 99,
   "metadata": {},
   "outputs": [
    {
     "data": {
      "text/html": [
       "<div>\n",
       "<style scoped>\n",
       "    .dataframe tbody tr th:only-of-type {\n",
       "        vertical-align: middle;\n",
       "    }\n",
       "\n",
       "    .dataframe tbody tr th {\n",
       "        vertical-align: top;\n",
       "    }\n",
       "\n",
       "    .dataframe thead th {\n",
       "        text-align: right;\n",
       "    }\n",
       "</style>\n",
       "<table border=\"1\" class=\"dataframe\">\n",
       "  <thead>\n",
       "    <tr style=\"text-align: right;\">\n",
       "      <th></th>\n",
       "      <th>Wikipedia_ID</th>\n",
       "      <th>Movie_Name</th>\n",
       "      <th>Release_Date</th>\n",
       "      <th>Box_Office_Revenue</th>\n",
       "      <th>Runtime</th>\n",
       "      <th>Languages</th>\n",
       "      <th>Countries</th>\n",
       "      <th>Genres</th>\n",
       "      <th>Continents</th>\n",
       "      <th>Year</th>\n",
       "      <th>...</th>\n",
       "      <th>Response</th>\n",
       "      <th>totalSeasons</th>\n",
       "      <th>Oscar</th>\n",
       "      <th>Nomination_Awards</th>\n",
       "      <th>Win_Awards</th>\n",
       "      <th>Internet_Movie_Database_Rating</th>\n",
       "      <th>Rotten_Tomatoes_Rating</th>\n",
       "      <th>Metacritic_Rating</th>\n",
       "      <th>Actor_Ethnicity</th>\n",
       "      <th>Actor_Freebase_ID</th>\n",
       "    </tr>\n",
       "  </thead>\n",
       "  <tbody>\n",
       "    <tr>\n",
       "      <th>0</th>\n",
       "      <td>13696889</td>\n",
       "      <td>The Gangsters</td>\n",
       "      <td>1913-05-29</td>\n",
       "      <td>NaN</td>\n",
       "      <td>35.0</td>\n",
       "      <td>['Silent film', 'English Language']</td>\n",
       "      <td>['United States of America']</td>\n",
       "      <td>['Short Film', 'Silent film', 'Indie', 'Black-...</td>\n",
       "      <td>['America']</td>\n",
       "      <td>1957</td>\n",
       "      <td>...</td>\n",
       "      <td>True</td>\n",
       "      <td>NaN</td>\n",
       "      <td>0</td>\n",
       "      <td>0</td>\n",
       "      <td>0</td>\n",
       "      <td>5.9</td>\n",
       "      <td>NaN</td>\n",
       "      <td>NaN</td>\n",
       "      <td>Scottish Americans</td>\n",
       "      <td>/m/0k57l</td>\n",
       "    </tr>\n",
       "    <tr>\n",
       "      <th>1</th>\n",
       "      <td>10408933</td>\n",
       "      <td>Alexander's Ragtime Band</td>\n",
       "      <td>1938-08-16</td>\n",
       "      <td>3600000.0</td>\n",
       "      <td>106.0</td>\n",
       "      <td>['English Language']</td>\n",
       "      <td>['United States of America']</td>\n",
       "      <td>['Musical', 'Comedy', 'Black-and-white']</td>\n",
       "      <td>['America']</td>\n",
       "      <td>1938</td>\n",
       "      <td>...</td>\n",
       "      <td>True</td>\n",
       "      <td>NaN</td>\n",
       "      <td>1</td>\n",
       "      <td>6</td>\n",
       "      <td>1</td>\n",
       "      <td>6.8</td>\n",
       "      <td>8.3</td>\n",
       "      <td>NaN</td>\n",
       "      <td>NaN</td>\n",
       "      <td>/m/0pkw7</td>\n",
       "    </tr>\n",
       "    <tr>\n",
       "      <th>2</th>\n",
       "      <td>10408933</td>\n",
       "      <td>Alexander's Ragtime Band</td>\n",
       "      <td>1938-08-16</td>\n",
       "      <td>3600000.0</td>\n",
       "      <td>106.0</td>\n",
       "      <td>['English Language']</td>\n",
       "      <td>['United States of America']</td>\n",
       "      <td>['Musical', 'Comedy', 'Black-and-white']</td>\n",
       "      <td>['America']</td>\n",
       "      <td>1938</td>\n",
       "      <td>...</td>\n",
       "      <td>True</td>\n",
       "      <td>NaN</td>\n",
       "      <td>1</td>\n",
       "      <td>6</td>\n",
       "      <td>1</td>\n",
       "      <td>6.8</td>\n",
       "      <td>8.3</td>\n",
       "      <td>NaN</td>\n",
       "      <td>French Americans</td>\n",
       "      <td>/m/02s58t</td>\n",
       "    </tr>\n",
       "  </tbody>\n",
       "</table>\n",
       "<p>3 rows × 35 columns</p>\n",
       "</div>"
      ],
      "text/plain": [
       "   Wikipedia_ID                Movie_Name Release_Date  Box_Office_Revenue  \\\n",
       "0      13696889             The Gangsters   1913-05-29                 NaN   \n",
       "1      10408933  Alexander's Ragtime Band   1938-08-16           3600000.0   \n",
       "2      10408933  Alexander's Ragtime Band   1938-08-16           3600000.0   \n",
       "\n",
       "   Runtime                            Languages                     Countries  \\\n",
       "0     35.0  ['Silent film', 'English Language']  ['United States of America']   \n",
       "1    106.0                 ['English Language']  ['United States of America']   \n",
       "2    106.0                 ['English Language']  ['United States of America']   \n",
       "\n",
       "                                              Genres   Continents  Year  ...  \\\n",
       "0  ['Short Film', 'Silent film', 'Indie', 'Black-...  ['America']  1957  ...   \n",
       "1           ['Musical', 'Comedy', 'Black-and-white']  ['America']  1938  ...   \n",
       "2           ['Musical', 'Comedy', 'Black-and-white']  ['America']  1938  ...   \n",
       "\n",
       "  Response totalSeasons Oscar Nomination_Awards Win_Awards  \\\n",
       "0     True          NaN     0                 0          0   \n",
       "1     True          NaN     1                 6          1   \n",
       "2     True          NaN     1                 6          1   \n",
       "\n",
       "  Internet_Movie_Database_Rating Rotten_Tomatoes_Rating Metacritic_Rating  \\\n",
       "0                            5.9                    NaN               NaN   \n",
       "1                            6.8                    8.3               NaN   \n",
       "2                            6.8                    8.3               NaN   \n",
       "\n",
       "      Actor_Ethnicity  Actor_Freebase_ID  \n",
       "0  Scottish Americans           /m/0k57l  \n",
       "1                 NaN           /m/0pkw7  \n",
       "2    French Americans          /m/02s58t  \n",
       "\n",
       "[3 rows x 35 columns]"
      ]
     },
     "execution_count": 99,
     "metadata": {},
     "output_type": "execute_result"
    }
   ],
   "source": [
    "full_movie_metadata_actor_ethnic = full_movie_metadata.merge(\n",
    "    character_metadata[['Wikipedia_ID', 'Actor_Ethnicity', 'Actor_Freebase_ID']],\n",
    "    on='Wikipedia_ID',\n",
    "    how='left'\n",
    ")\n",
    "full_movie_metadata_actor_ethnic.head(3)"
   ]
  },
  {
   "cell_type": "code",
   "execution_count": 100,
   "metadata": {},
   "outputs": [],
   "source": [
    "# Filter rows where 'Continents' is one of 'America', 'Europe', or 'Both'\n",
    "full_movie_metadata_actor_ethnic_filtered = full_movie_metadata_actor_ethnic[full_movie_metadata_actor_ethnic['Continents'].apply(lambda x: 'America'in x or 'Europe' in x or 'Both' in x)]"
   ]
  },
  {
   "cell_type": "code",
   "execution_count": 101,
   "metadata": {},
   "outputs": [
    {
     "data": {
      "text/html": [
       "<style type=\"text/css\">\n",
       "</style>\n",
       "<table id=\"T_5ba7e\" style=\"display:inline\">\n",
       "  <caption><b>Actor Ethnicity (America)</b></caption>\n",
       "  <thead>\n",
       "    <tr>\n",
       "      <th class=\"blank level0\" >&nbsp;</th>\n",
       "      <th id=\"T_5ba7e_level0_col0\" class=\"col_heading level0 col0\" >count</th>\n",
       "    </tr>\n",
       "    <tr>\n",
       "      <th class=\"index_name level0\" >Actor_Ethnicity</th>\n",
       "      <th class=\"blank col0\" >&nbsp;</th>\n",
       "    </tr>\n",
       "  </thead>\n",
       "  <tbody>\n",
       "    <tr>\n",
       "      <th id=\"T_5ba7e_level0_row0\" class=\"row_heading level0 row0\" >Jewish people</th>\n",
       "      <td id=\"T_5ba7e_row0_col0\" class=\"data row0 col0\" >4121</td>\n",
       "    </tr>\n",
       "    <tr>\n",
       "      <th id=\"T_5ba7e_level0_row1\" class=\"row_heading level0 row1\" >African Americans</th>\n",
       "      <td id=\"T_5ba7e_row1_col0\" class=\"data row1 col0\" >4088</td>\n",
       "    </tr>\n",
       "    <tr>\n",
       "      <th id=\"T_5ba7e_level0_row2\" class=\"row_heading level0 row2\" >Irish Americans</th>\n",
       "      <td id=\"T_5ba7e_row2_col0\" class=\"data row2 col0\" >1634</td>\n",
       "    </tr>\n",
       "    <tr>\n",
       "      <th id=\"T_5ba7e_level0_row3\" class=\"row_heading level0 row3\" >Italian Americans</th>\n",
       "      <td id=\"T_5ba7e_row3_col0\" class=\"data row3 col0\" >1335</td>\n",
       "    </tr>\n",
       "    <tr>\n",
       "      <th id=\"T_5ba7e_level0_row4\" class=\"row_heading level0 row4\" >Scottish Americans</th>\n",
       "      <td id=\"T_5ba7e_row4_col0\" class=\"data row4 col0\" >1089</td>\n",
       "    </tr>\n",
       "  </tbody>\n",
       "</table>\n"
      ],
      "text/plain": [
       "<pandas.io.formats.style.Styler at 0x3187eead0>"
      ]
     },
     "metadata": {},
     "output_type": "display_data"
    },
    {
     "data": {
      "text/html": [
       "<style type=\"text/css\">\n",
       "</style>\n",
       "<table id=\"T_cee9d\" style=\"display:inline\">\n",
       "  <caption><b>Actor Ethnicity (Europe)</b></caption>\n",
       "  <thead>\n",
       "    <tr>\n",
       "      <th class=\"blank level0\" >&nbsp;</th>\n",
       "      <th id=\"T_cee9d_level0_col0\" class=\"col_heading level0 col0\" >count</th>\n",
       "    </tr>\n",
       "    <tr>\n",
       "      <th class=\"index_name level0\" >Actor_Ethnicity</th>\n",
       "      <th class=\"blank col0\" >&nbsp;</th>\n",
       "    </tr>\n",
       "  </thead>\n",
       "  <tbody>\n",
       "    <tr>\n",
       "      <th id=\"T_cee9d_level0_row0\" class=\"row_heading level0 row0\" >English people</th>\n",
       "      <td id=\"T_cee9d_row0_col0\" class=\"data row0 col0\" >829</td>\n",
       "    </tr>\n",
       "    <tr>\n",
       "      <th id=\"T_cee9d_level0_row1\" class=\"row_heading level0 row1\" >Jewish people</th>\n",
       "      <td id=\"T_cee9d_row1_col0\" class=\"data row1 col0\" >292</td>\n",
       "    </tr>\n",
       "    <tr>\n",
       "      <th id=\"T_cee9d_level0_row2\" class=\"row_heading level0 row2\" >Italians</th>\n",
       "      <td id=\"T_cee9d_row2_col0\" class=\"data row2 col0\" >239</td>\n",
       "    </tr>\n",
       "    <tr>\n",
       "      <th id=\"T_cee9d_level0_row3\" class=\"row_heading level0 row3\" >French</th>\n",
       "      <td id=\"T_cee9d_row3_col0\" class=\"data row3 col0\" >205</td>\n",
       "    </tr>\n",
       "    <tr>\n",
       "      <th id=\"T_cee9d_level0_row4\" class=\"row_heading level0 row4\" >White British</th>\n",
       "      <td id=\"T_cee9d_row4_col0\" class=\"data row4 col0\" >110</td>\n",
       "    </tr>\n",
       "  </tbody>\n",
       "</table>\n"
      ],
      "text/plain": [
       "<pandas.io.formats.style.Styler at 0x3187eead0>"
      ]
     },
     "metadata": {},
     "output_type": "display_data"
    },
    {
     "data": {
      "text/html": [
       "<style type=\"text/css\">\n",
       "</style>\n",
       "<table id=\"T_b06df\" style=\"display:inline\">\n",
       "  <caption><b>Actor Ethnicity (Both)</b></caption>\n",
       "  <thead>\n",
       "    <tr>\n",
       "      <th class=\"blank level0\" >&nbsp;</th>\n",
       "      <th id=\"T_b06df_level0_col0\" class=\"col_heading level0 col0\" >count</th>\n",
       "    </tr>\n",
       "    <tr>\n",
       "      <th class=\"index_name level0\" >Actor_Ethnicity</th>\n",
       "      <th class=\"blank col0\" >&nbsp;</th>\n",
       "    </tr>\n",
       "  </thead>\n",
       "  <tbody>\n",
       "    <tr>\n",
       "      <th id=\"T_b06df_level0_row0\" class=\"row_heading level0 row0\" >English people</th>\n",
       "      <td id=\"T_b06df_row0_col0\" class=\"data row0 col0\" >596</td>\n",
       "    </tr>\n",
       "    <tr>\n",
       "      <th id=\"T_b06df_level0_row1\" class=\"row_heading level0 row1\" >Jewish people</th>\n",
       "      <td id=\"T_b06df_row1_col0\" class=\"data row1 col0\" >408</td>\n",
       "    </tr>\n",
       "    <tr>\n",
       "      <th id=\"T_b06df_level0_row2\" class=\"row_heading level0 row2\" >African Americans</th>\n",
       "      <td id=\"T_b06df_row2_col0\" class=\"data row2 col0\" >254</td>\n",
       "    </tr>\n",
       "    <tr>\n",
       "      <th id=\"T_b06df_level0_row3\" class=\"row_heading level0 row3\" >Irish Americans</th>\n",
       "      <td id=\"T_b06df_row3_col0\" class=\"data row3 col0\" >190</td>\n",
       "    </tr>\n",
       "    <tr>\n",
       "      <th id=\"T_b06df_level0_row4\" class=\"row_heading level0 row4\" >Italian Americans</th>\n",
       "      <td id=\"T_b06df_row4_col0\" class=\"data row4 col0\" >183</td>\n",
       "    </tr>\n",
       "  </tbody>\n",
       "</table>\n"
      ],
      "text/plain": [
       "<pandas.io.formats.style.Styler at 0x3187eead0>"
      ]
     },
     "metadata": {},
     "output_type": "display_data"
    }
   ],
   "source": [
    "full_movie_metadata_char_ethnic_american=full_movie_metadata_actor_ethnic[full_movie_metadata_actor_ethnic['Continents'].apply(lambda x: 'America'in x)]\n",
    "ethnicity_count_a=full_movie_metadata_char_ethnic_american['Actor_Ethnicity'].value_counts()\n",
    "display(ethnicity_count_a.head(5).to_frame().style.set_table_attributes('style=\"display:inline\"').set_caption('<b>Actor Ethnicity (America)</b>'))\n",
    "\n",
    "full_movie_metadata_char_ethnic_europe=full_movie_metadata_actor_ethnic[full_movie_metadata_actor_ethnic['Continents'].apply(lambda x: 'Europe'in x)]\n",
    "ethnicity_count_e=full_movie_metadata_char_ethnic_europe['Actor_Ethnicity'].value_counts()\n",
    "display(ethnicity_count_e.head(5).to_frame().style.set_table_attributes('style=\"display:inline\"').set_caption('<b>Actor Ethnicity (Europe)</b>'))\n",
    "\n",
    "full_movie_metadata_char_ethnic_both=full_movie_metadata_actor_ethnic[full_movie_metadata_actor_ethnic['Continents'].apply(lambda x: 'Both'in x)]\n",
    "ethnicity_count_b=full_movie_metadata_char_ethnic_both['Actor_Ethnicity'].value_counts()\n",
    "display(ethnicity_count_b.head(5).to_frame().style.set_table_attributes('style=\"display:inline\"').set_caption('<b>Actor Ethnicity (Both)</b>'))"
   ]
  },
  {
   "cell_type": "code",
   "execution_count": 102,
   "metadata": {},
   "outputs": [
    {
     "data": {
      "image/png": "[encoded data removed]",
      "text/plain": [
       "<Figure size 576x432 with 1 Axes>"
      ]
     },
     "metadata": {
      "needs_background": "light"
     },
     "output_type": "display_data"
    },
    {
     "data": {
      "image/png": "[encoded data removed]",
      "text/plain": [
       "<Figure size 576x432 with 1 Axes>"
      ]
     },
     "metadata": {
      "needs_background": "light"
     },
     "output_type": "display_data"
    },
    {
     "data": {
      "image/png": "[encoded data removed]",
      "text/plain": [
       "<Figure size 576x432 with 1 Axes>"
      ]
     },
     "metadata": {
      "needs_background": "light"
     },
     "output_type": "display_data"
    }
   ],
   "source": [
    "i=10\n",
    "plot_proportion(ethnicity_count_a.head(i),title=f'Leading {i} Actor Ethnicities (America)', xlabel=\"Ethnicity\",color='skyblue')\n",
    "plot_proportion(ethnicity_count_e.head(i), title=f'Leading {i} Actor Ethnicities (Europe)', xlabel=\"Ethnicity\",color='lightgreen')\n",
    "plot_proportion(ethnicity_count_b.head(i), title=f'Leading {i} Actor Ethnicities (coproduced)', xlabel=\"Ethnicity\",color='salmon')"
   ]
  },
  {
   "cell_type": "markdown",
   "metadata": {},
   "source": [
    "We see very different proportions for ethic repartition of actors in European and American movies. <br>\n",
    "Future step invole creating broader ethnic cathegories to have simplified but more accurate representation of the movie industry ethnic landscape.\n",
    "Further reaserch will focus on:\n",
    "- The evolution of these varying proportions at different time periods in the two movie industries.\n",
    "- The types of comedies where a significantly different proportion is observed on the two contients.\n",
    "- Look for correlations in movie recognition (boxoffice/rankings/ratings/awards) and ethnical diversity in the cast."
   ]
  }
 ],
 "metadata": {
  "kernelspec": {
   "display_name": "ADA_env",
   "language": "python",
   "name": "python3"
  },
  "language_info": {
   "codemirror_mode": {
    "name": "ipython",
    "version": 3
   },
   "file_extension": ".py",
   "mimetype": "text/x-python",
   "name": "python",
   "nbconvert_exporter": "python",
   "pygments_lexer": "ipython3",
   "version": "3.13.0"
  }
 },
 "nbformat": 4,
 "nbformat_minor": 2
}
